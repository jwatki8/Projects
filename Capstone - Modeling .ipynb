{
 "cells": [
  {
   "cell_type": "markdown",
   "id": "52a50a3e",
   "metadata": {},
   "source": [
    "# Capstone Modeling- Jessica Williams"
   ]
  },
  {
   "cell_type": "code",
   "execution_count": 1,
   "id": "f9375860",
   "metadata": {},
   "outputs": [],
   "source": [
    "import pandas as pd\n",
    "import numpy as np\n",
    "import os\n",
    "import pickle\n",
    "import matplotlib.pyplot as plt\n",
    "import seaborn as sns\n",
    "from sklearn import __version__ as sklearn_version\n",
    "from sklearn.decomposition import PCA\n",
    "from sklearn.preprocessing import scale\n",
    "from sklearn.model_selection import train_test_split, cross_validate, GridSearchCV, learning_curve, RandomizedSearchCV\n",
    "from sklearn.preprocessing import StandardScaler, MinMaxScaler\n",
    "from sklearn.dummy import DummyRegressor\n",
    "from sklearn.linear_model import LinearRegression, Lasso, Ridge,LassoCV\n",
    "from sklearn.ensemble import RandomForestRegressor\n",
    "from sklearn.neighbors import KNeighborsRegressor\n",
    "from sklearn.metrics import r2_score, mean_squared_error, mean_absolute_error\n",
    "from sklearn.pipeline import Pipeline\n",
    "from sklearn.pipeline import make_pipeline\n",
    "from sklearn.impute import SimpleImputer\n",
    "from sklearn.feature_selection import SelectKBest, f_regression\n",
    "import datetime\n",
    "\n",
    "from sb_utils import save_file\n"
   ]
  },
  {
   "cell_type": "markdown",
   "id": "4b9f25c2",
   "metadata": {},
   "source": [
    "First let’s import the data. I will be using two different train test splits for my data. The first train test split will use the rating mean of recipes column of the data as the target variable(y). The second train test split will use the polarity average of the reviews column as the target variable."
   ]
  },
  {
   "cell_type": "code",
   "execution_count": 2,
   "id": "f045890a",
   "metadata": {},
   "outputs": [],
   "source": [
    "recipe_attributes_p = pd.read_csv('C:/Users/jwatki8/Downloads/My Capstone project/recipe_attributes_p.csv')"
   ]
  },
  {
   "cell_type": "code",
   "execution_count": 3,
   "id": "d73c93c2",
   "metadata": {},
   "outputs": [
    {
     "name": "stdout",
     "output_type": "stream",
     "text": [
      "<class 'pandas.core.frame.DataFrame'>\n",
      "RangeIndex: 231634 entries, 0 to 231633\n",
      "Data columns (total 59 columns):\n",
      " #   Column                      Non-Null Count   Dtype  \n",
      "---  ------                      --------------   -----  \n",
      " 0   recipe_id                   231634 non-null  int64  \n",
      " 1   minutes                     231634 non-null  int64  \n",
      " 2   n_steps                     231634 non-null  float64\n",
      " 3   n_ingredients               231634 non-null  float64\n",
      " 4   rating_mean                 231634 non-null  float64\n",
      " 5   review_count                231634 non-null  int64  \n",
      " 6   polarity_avg                231634 non-null  float64\n",
      " 7   ingr_baking powder          231634 non-null  int64  \n",
      " 8   ingr_baking soda            231634 non-null  int64  \n",
      " 9   ingr_black pepper           231634 non-null  int64  \n",
      " 10  ingr_brown sugar            231634 non-null  int64  \n",
      " 11  ingr_cheddar cheese         231634 non-null  int64  \n",
      " 12  ingr_cream cheese           231634 non-null  int64  \n",
      " 13  ingr_garlic cloves          231634 non-null  int64  \n",
      " 14  ingr_ground black           231634 non-null  int64  \n",
      " 15  ingr_lemon juice            231634 non-null  int64  \n",
      " 16  ingr_olive oil              231634 non-null  int64  \n",
      " 17  ingr_parmesan cheese        231634 non-null  int64  \n",
      " 18  ingr_purpose flour          231634 non-null  int64  \n",
      " 19  ingr_salt pepper            231634 non-null  int64  \n",
      " 20  ingr_sour cream             231634 non-null  int64  \n",
      " 21  ingr_vanilla extract        231634 non-null  int64  \n",
      " 22  ingr_vegetable oil          231634 non-null  int64  \n",
      " 23  step_10 minutes             231634 non-null  int64  \n",
      " 24  step_15 minutes             231634 non-null  int64  \n",
      " 25  step_30 minutes             231634 non-null  int64  \n",
      " 26  step_bring boil             231634 non-null  int64  \n",
      " 27  step_large bowl             231634 non-null  int64  \n",
      " 28  step_medium heat            231634 non-null  int64  \n",
      " 29  step_preheat oven           231634 non-null  int64  \n",
      " 30  step_salt pepper            231634 non-null  int64  \n",
      " 31  step_set aside              231634 non-null  int64  \n",
      " 32  tag_15 minutes              231634 non-null  int64  \n",
      " 33  tag_30 minutes              231634 non-null  int64  \n",
      " 34  tag_60 minutes              231634 non-null  int64  \n",
      " 35  tag_beginner cook           231634 non-null  int64  \n",
      " 36  tag_cholesterol low         231634 non-null  int64  \n",
      " 37  tag_comfort food            231634 non-null  int64  \n",
      " 38  tag_course main             231634 non-null  int64  \n",
      " 39  tag_course preparation      231634 non-null  int64  \n",
      " 40  tag_cuisine preparation     231634 non-null  int64  \n",
      " 41  tag_dietary low             231634 non-null  int64  \n",
      " 42  tag_dinner party            231634 non-null  int64  \n",
      " 43  tag_eggs dairy              231634 non-null  int64  \n",
      " 44  tag_fat low                 231634 non-null  int64  \n",
      " 45  tag_holiday event           231634 non-null  int64  \n",
      " 46  tag_ingredient preparation  231634 non-null  int64  \n",
      " 47  tag_kid friendly            231634 non-null  int64  \n",
      " 48  tag_low calorie             231634 non-null  int64  \n",
      " 49  tag_low carb                231634 non-null  int64  \n",
      " 50  tag_low protein             231634 non-null  int64  \n",
      " 51  tag_low sodium              231634 non-null  int64  \n",
      " 52  tag_main dish               231634 non-null  int64  \n",
      " 53  tag_minutes time            231634 non-null  int64  \n",
      " 54  tag_north american          231634 non-null  int64  \n",
      " 55  tag_number servings         231634 non-null  int64  \n",
      " 56  tag_pasta rice              231634 non-null  int64  \n",
      " 57  tag_preparation occasion    231634 non-null  int64  \n",
      " 58  tag_taste mood              231634 non-null  int64  \n",
      "dtypes: float64(4), int64(55)\n",
      "memory usage: 104.3 MB\n"
     ]
    }
   ],
   "source": [
    "recipe_attributes_p.info()"
   ]
  },
  {
   "cell_type": "code",
   "execution_count": 4,
   "id": "565bb9b9",
   "metadata": {},
   "outputs": [
    {
     "data": {
      "text/plain": [
       "(162143.8, 69490.2)"
      ]
     },
     "execution_count": 4,
     "metadata": {},
     "output_type": "execute_result"
    }
   ],
   "source": [
    "len(recipe_attributes_p) * .7, len(recipe_attributes_p) * .3"
   ]
  },
  {
   "cell_type": "code",
   "execution_count": 5,
   "id": "474ee1ff",
   "metadata": {},
   "outputs": [],
   "source": [
    "X_train, X_test, y_train, y_test = train_test_split(recipe_attributes_p.drop(columns='rating_mean'), \n",
    "                                                    recipe_attributes_p.rating_mean, test_size=0.3, \n",
    "                                                    random_state=22)"
   ]
  },
  {
   "cell_type": "code",
   "execution_count": 6,
   "id": "d08cfcfa",
   "metadata": {},
   "outputs": [
    {
     "data": {
      "text/plain": [
       "((162143, 58), (69491, 58))"
      ]
     },
     "execution_count": 6,
     "metadata": {},
     "output_type": "execute_result"
    }
   ],
   "source": [
    "X_train.shape, X_test.shape"
   ]
  },
  {
   "cell_type": "code",
   "execution_count": 7,
   "id": "74f50546",
   "metadata": {},
   "outputs": [
    {
     "data": {
      "text/plain": [
       "((162143,), (69491,))"
      ]
     },
     "execution_count": 7,
     "metadata": {},
     "output_type": "execute_result"
    }
   ],
   "source": [
    "y_train.shape, y_test.shape"
   ]
  },
  {
   "cell_type": "code",
   "execution_count": 8,
   "id": "a47fb92f",
   "metadata": {},
   "outputs": [],
   "source": [
    "X_train2, X_test2, y_train2, y_test2 = train_test_split(recipe_attributes_p.drop(columns='polarity_avg'), \n",
    "                                                    recipe_attributes_p.polarity_avg, test_size=0.3, \n",
    "                                                    random_state=22)"
   ]
  },
  {
   "cell_type": "code",
   "execution_count": 9,
   "id": "78b3dcb5",
   "metadata": {},
   "outputs": [
    {
     "data": {
      "text/plain": [
       "((162143, 58), (69491, 58))"
      ]
     },
     "execution_count": 9,
     "metadata": {},
     "output_type": "execute_result"
    }
   ],
   "source": [
    "X_train2.shape, X_test2.shape"
   ]
  },
  {
   "cell_type": "code",
   "execution_count": 10,
   "id": "f9aab98a",
   "metadata": {},
   "outputs": [
    {
     "data": {
      "text/plain": [
       "((162143,), (69491,))"
      ]
     },
     "execution_count": 10,
     "metadata": {},
     "output_type": "execute_result"
    }
   ],
   "source": [
    "y_train2.shape, y_test2.shape"
   ]
  },
  {
   "cell_type": "code",
   "execution_count": 11,
   "id": "7dfa8003",
   "metadata": {},
   "outputs": [
    {
     "data": {
      "text/plain": [
       "((162143, 57), (69491, 57))"
      ]
     },
     "execution_count": 11,
     "metadata": {},
     "output_type": "execute_result"
    }
   ],
   "source": [
    "id_vars = ['recipe_id']\n",
    "id_train = X_train[id_vars]\n",
    "id_test = X_test[id_vars]\n",
    "X_train.drop(columns=id_vars, inplace=True)\n",
    "X_test.drop(columns=id_vars, inplace=True)\n",
    "X_train.shape, X_test.shape"
   ]
  },
  {
   "cell_type": "code",
   "execution_count": 12,
   "id": "5cbc7113",
   "metadata": {},
   "outputs": [
    {
     "data": {
      "text/plain": [
       "((162143, 57), (69491, 57))"
      ]
     },
     "execution_count": 12,
     "metadata": {},
     "output_type": "execute_result"
    }
   ],
   "source": [
    "id_vars = ['recipe_id']\n",
    "id_train = X_train2[id_vars]\n",
    "id_test = X_test2[id_vars]\n",
    "X_train2.drop(columns=id_vars, inplace=True)\n",
    "X_test2.drop(columns=id_vars, inplace=True)\n",
    "X_train2.shape, X_test2.shape"
   ]
  },
  {
   "cell_type": "code",
   "execution_count": 13,
   "id": "333c4a79",
   "metadata": {},
   "outputs": [],
   "source": [
    "scaler = StandardScaler()\n",
    "scaler.fit(X_train)\n",
    "X_train_scaled = scaler.transform(X_train)\n",
    "X_test_scaled = scaler.transform(X_test)"
   ]
  },
  {
   "cell_type": "code",
   "execution_count": 14,
   "id": "a9a7710d",
   "metadata": {},
   "outputs": [],
   "source": [
    "scaler = StandardScaler()\n",
    "scaler.fit(X_train2)\n",
    "X_train2_scaled = scaler.transform(X_train2)\n",
    "X_test2_scaled = scaler.transform(X_test2)"
   ]
  },
  {
   "cell_type": "markdown",
   "id": "730fa547",
   "metadata": {},
   "source": [
    "Now that we have the train test split imported, let’s experiment with a few models. First I will apply a linear regression model to the data."
   ]
  },
  {
   "cell_type": "markdown",
   "id": "23d48a5f",
   "metadata": {},
   "source": [
    "## Linear Regression"
   ]
  },
  {
   "cell_type": "code",
   "execution_count": 15,
   "id": "0147e0e4",
   "metadata": {},
   "outputs": [],
   "source": [
    "lr = LinearRegression().fit(X_train_scaled, y_train)"
   ]
  },
  {
   "cell_type": "code",
   "execution_count": 16,
   "id": "bed2c65c",
   "metadata": {},
   "outputs": [],
   "source": [
    "y_tr_pred = lr.predict(X_train_scaled)\n",
    "y_te_pred = lr.predict(X_test_scaled)"
   ]
  },
  {
   "cell_type": "code",
   "execution_count": 17,
   "id": "a1ad210d",
   "metadata": {},
   "outputs": [
    {
     "data": {
      "text/plain": [
       "(0.06958851821260514, 0.06378735916930367)"
      ]
     },
     "execution_count": 17,
     "metadata": {},
     "output_type": "execute_result"
    }
   ],
   "source": [
    "r2_score(y_train, y_tr_pred), r2_score(y_test, y_te_pred)"
   ]
  },
  {
   "cell_type": "code",
   "execution_count": 18,
   "id": "f4ce8e6a",
   "metadata": {},
   "outputs": [
    {
     "data": {
      "text/plain": [
       "(0.6466426445454803, 0.6420365805554163)"
      ]
     },
     "execution_count": 18,
     "metadata": {},
     "output_type": "execute_result"
    }
   ],
   "source": [
    "mean_absolute_error(y_train, y_tr_pred), mean_absolute_error(y_test, y_te_pred)"
   ]
  },
  {
   "cell_type": "markdown",
   "id": "2beef838",
   "metadata": {},
   "source": [
    "Looking at the $R^2$ score we can see that very little variance is explained by the linear regression model. We can also see that we get a mean absolute error that is on the higher side if we consider the fact that our target variable value range is 0-5. Let’s take a look at how this model performs on train test set 2."
   ]
  },
  {
   "cell_type": "code",
   "execution_count": 19,
   "id": "1de01fc4",
   "metadata": {},
   "outputs": [],
   "source": [
    "lr = LinearRegression().fit(X_train2_scaled, y_train2)"
   ]
  },
  {
   "cell_type": "code",
   "execution_count": 20,
   "id": "47baea13",
   "metadata": {},
   "outputs": [],
   "source": [
    "y_tr_pred2 = lr.predict(X_train2_scaled)\n",
    "y_te_pred2 = lr.predict(X_test2_scaled)"
   ]
  },
  {
   "cell_type": "code",
   "execution_count": 21,
   "id": "84fc3709",
   "metadata": {},
   "outputs": [
    {
     "data": {
      "text/plain": [
       "(0.06835631102931283, 0.06364306918429008)"
      ]
     },
     "execution_count": 21,
     "metadata": {},
     "output_type": "execute_result"
    }
   ],
   "source": [
    "r2_score(y_train2, y_tr_pred2), r2_score(y_test2, y_te_pred2)"
   ]
  },
  {
   "cell_type": "code",
   "execution_count": 22,
   "id": "0dfa6f68",
   "metadata": {},
   "outputs": [
    {
     "data": {
      "text/plain": [
       "(0.12140068348072551, 0.12121129952077533)"
      ]
     },
     "execution_count": 22,
     "metadata": {},
     "output_type": "execute_result"
    }
   ],
   "source": [
    "mean_absolute_error(y_train2, y_tr_pred2), mean_absolute_error(y_test2, y_te_pred2)"
   ]
  },
  {
   "cell_type": "markdown",
   "id": "5c01da7b",
   "metadata": {},
   "source": [
    "The $R^2$ score for the model is pretty much the same as it was for the other train test set. The mae is lower but we have to consider that the value range for the review polarity average is between -1 and 1."
   ]
  },
  {
   "cell_type": "markdown",
   "id": "d7315ede",
   "metadata": {},
   "source": [
    "## Random Forest Regression"
   ]
  },
  {
   "cell_type": "markdown",
   "id": "ff117e1f",
   "metadata": {},
   "source": [
    "Next we will apply a random forest regression model to the data."
   ]
  },
  {
   "cell_type": "code",
   "execution_count": 23,
   "id": "eda6edf8",
   "metadata": {},
   "outputs": [],
   "source": [
    "rfr = RandomForestRegressor(max_depth=2, random_state=22).fit(X_train_scaled, y_train)"
   ]
  },
  {
   "cell_type": "code",
   "execution_count": 24,
   "id": "2db91bf2",
   "metadata": {},
   "outputs": [],
   "source": [
    "y_tr_pred = rfr.predict(X_train_scaled)\n",
    "y_te_pred = rfr.predict(X_test_scaled)"
   ]
  },
  {
   "cell_type": "code",
   "execution_count": 25,
   "id": "8cb70ce2",
   "metadata": {},
   "outputs": [
    {
     "data": {
      "text/plain": [
       "(0.09317363192864037, 0.08816164176612407)"
      ]
     },
     "execution_count": 25,
     "metadata": {},
     "output_type": "execute_result"
    }
   ],
   "source": [
    "r2_score(y_train, y_tr_pred), r2_score(y_test, y_te_pred)"
   ]
  },
  {
   "cell_type": "code",
   "execution_count": 26,
   "id": "02194320",
   "metadata": {},
   "outputs": [
    {
     "data": {
      "text/plain": [
       "(0.6472676562558916, 0.6428395361573302)"
      ]
     },
     "execution_count": 26,
     "metadata": {},
     "output_type": "execute_result"
    }
   ],
   "source": [
    "mean_absolute_error(y_train, y_tr_pred), mean_absolute_error(y_test, y_te_pred)"
   ]
  },
  {
   "cell_type": "markdown",
   "id": "dcb4f579",
   "metadata": {},
   "source": [
    "It looks like the $R^2$  score for this model is higher than the linear regression model, but the mean absolute error is pretty much the same. Let’s test it on our second train test set."
   ]
  },
  {
   "cell_type": "code",
   "execution_count": 27,
   "id": "d20d8c4f",
   "metadata": {},
   "outputs": [],
   "source": [
    "rfr = RandomForestRegressor(max_depth=2,random_state=22).fit(X_train2_scaled, y_train2)"
   ]
  },
  {
   "cell_type": "code",
   "execution_count": 28,
   "id": "dfad9cfc",
   "metadata": {},
   "outputs": [],
   "source": [
    "y_tr_pred2 = rfr.predict(X_train2_scaled)\n",
    "y_te_pred2 = rfr.predict(X_test2_scaled)"
   ]
  },
  {
   "cell_type": "code",
   "execution_count": 29,
   "id": "e4a2804a",
   "metadata": {},
   "outputs": [
    {
     "data": {
      "text/plain": [
       "(0.06900957511660455, 0.06662175203110088)"
      ]
     },
     "execution_count": 29,
     "metadata": {},
     "output_type": "execute_result"
    }
   ],
   "source": [
    "r2_score(y_train2, y_tr_pred2), r2_score(y_test2, y_te_pred2)"
   ]
  },
  {
   "cell_type": "code",
   "execution_count": 30,
   "id": "ca249a55",
   "metadata": {},
   "outputs": [
    {
     "data": {
      "text/plain": [
       "(0.1216759506940545, 0.12129199693134092)"
      ]
     },
     "execution_count": 30,
     "metadata": {},
     "output_type": "execute_result"
    }
   ],
   "source": [
    "mean_absolute_error(y_train2, y_tr_pred2), mean_absolute_error(y_test2, y_te_pred2)"
   ]
  },
  {
   "cell_type": "markdown",
   "id": "29037622",
   "metadata": {},
   "source": [
    "This model seems to have the same effect on this data set. Slightly larger $R^2$  score and a mean absolute error that is pretty much the same as the linear regression model."
   ]
  },
  {
   "cell_type": "markdown",
   "id": "f6aed792",
   "metadata": {},
   "source": [
    "## K-Neighbors Regression"
   ]
  },
  {
   "cell_type": "markdown",
   "id": "438bcb5f",
   "metadata": {},
   "source": [
    "I would also like to apply a K-Neighbors Regression model to the data."
   ]
  },
  {
   "cell_type": "code",
   "execution_count": 31,
   "id": "bbaa8536",
   "metadata": {},
   "outputs": [],
   "source": [
    "knn = KNeighborsRegressor(p=2,weights='distance',n_neighbors=50)"
   ]
  },
  {
   "cell_type": "code",
   "execution_count": 32,
   "id": "69633f16",
   "metadata": {},
   "outputs": [
    {
     "data": {
      "text/html": [
       "<style>#sk-container-id-1 {color: black;}#sk-container-id-1 pre{padding: 0;}#sk-container-id-1 div.sk-toggleable {background-color: white;}#sk-container-id-1 label.sk-toggleable__label {cursor: pointer;display: block;width: 100%;margin-bottom: 0;padding: 0.3em;box-sizing: border-box;text-align: center;}#sk-container-id-1 label.sk-toggleable__label-arrow:before {content: \"▸\";float: left;margin-right: 0.25em;color: #696969;}#sk-container-id-1 label.sk-toggleable__label-arrow:hover:before {color: black;}#sk-container-id-1 div.sk-estimator:hover label.sk-toggleable__label-arrow:before {color: black;}#sk-container-id-1 div.sk-toggleable__content {max-height: 0;max-width: 0;overflow: hidden;text-align: left;background-color: #f0f8ff;}#sk-container-id-1 div.sk-toggleable__content pre {margin: 0.2em;color: black;border-radius: 0.25em;background-color: #f0f8ff;}#sk-container-id-1 input.sk-toggleable__control:checked~div.sk-toggleable__content {max-height: 200px;max-width: 100%;overflow: auto;}#sk-container-id-1 input.sk-toggleable__control:checked~label.sk-toggleable__label-arrow:before {content: \"▾\";}#sk-container-id-1 div.sk-estimator input.sk-toggleable__control:checked~label.sk-toggleable__label {background-color: #d4ebff;}#sk-container-id-1 div.sk-label input.sk-toggleable__control:checked~label.sk-toggleable__label {background-color: #d4ebff;}#sk-container-id-1 input.sk-hidden--visually {border: 0;clip: rect(1px 1px 1px 1px);clip: rect(1px, 1px, 1px, 1px);height: 1px;margin: -1px;overflow: hidden;padding: 0;position: absolute;width: 1px;}#sk-container-id-1 div.sk-estimator {font-family: monospace;background-color: #f0f8ff;border: 1px dotted black;border-radius: 0.25em;box-sizing: border-box;margin-bottom: 0.5em;}#sk-container-id-1 div.sk-estimator:hover {background-color: #d4ebff;}#sk-container-id-1 div.sk-parallel-item::after {content: \"\";width: 100%;border-bottom: 1px solid gray;flex-grow: 1;}#sk-container-id-1 div.sk-label:hover label.sk-toggleable__label {background-color: #d4ebff;}#sk-container-id-1 div.sk-serial::before {content: \"\";position: absolute;border-left: 1px solid gray;box-sizing: border-box;top: 0;bottom: 0;left: 50%;z-index: 0;}#sk-container-id-1 div.sk-serial {display: flex;flex-direction: column;align-items: center;background-color: white;padding-right: 0.2em;padding-left: 0.2em;position: relative;}#sk-container-id-1 div.sk-item {position: relative;z-index: 1;}#sk-container-id-1 div.sk-parallel {display: flex;align-items: stretch;justify-content: center;background-color: white;position: relative;}#sk-container-id-1 div.sk-item::before, #sk-container-id-1 div.sk-parallel-item::before {content: \"\";position: absolute;border-left: 1px solid gray;box-sizing: border-box;top: 0;bottom: 0;left: 50%;z-index: -1;}#sk-container-id-1 div.sk-parallel-item {display: flex;flex-direction: column;z-index: 1;position: relative;background-color: white;}#sk-container-id-1 div.sk-parallel-item:first-child::after {align-self: flex-end;width: 50%;}#sk-container-id-1 div.sk-parallel-item:last-child::after {align-self: flex-start;width: 50%;}#sk-container-id-1 div.sk-parallel-item:only-child::after {width: 0;}#sk-container-id-1 div.sk-dashed-wrapped {border: 1px dashed gray;margin: 0 0.4em 0.5em 0.4em;box-sizing: border-box;padding-bottom: 0.4em;background-color: white;}#sk-container-id-1 div.sk-label label {font-family: monospace;font-weight: bold;display: inline-block;line-height: 1.2em;}#sk-container-id-1 div.sk-label-container {text-align: center;}#sk-container-id-1 div.sk-container {/* jupyter's `normalize.less` sets `[hidden] { display: none; }` but bootstrap.min.css set `[hidden] { display: none !important; }` so we also need the `!important` here to be able to override the default hidden behavior on the sphinx rendered scikit-learn.org. See: https://github.com/scikit-learn/scikit-learn/issues/21755 */display: inline-block !important;position: relative;}#sk-container-id-1 div.sk-text-repr-fallback {display: none;}</style><div id=\"sk-container-id-1\" class=\"sk-top-container\"><div class=\"sk-text-repr-fallback\"><pre>KNeighborsRegressor(n_neighbors=50, weights=&#x27;distance&#x27;)</pre><b>In a Jupyter environment, please rerun this cell to show the HTML representation or trust the notebook. <br />On GitHub, the HTML representation is unable to render, please try loading this page with nbviewer.org.</b></div><div class=\"sk-container\" hidden><div class=\"sk-item\"><div class=\"sk-estimator sk-toggleable\"><input class=\"sk-toggleable__control sk-hidden--visually\" id=\"sk-estimator-id-1\" type=\"checkbox\" checked><label for=\"sk-estimator-id-1\" class=\"sk-toggleable__label sk-toggleable__label-arrow\">KNeighborsRegressor</label><div class=\"sk-toggleable__content\"><pre>KNeighborsRegressor(n_neighbors=50, weights=&#x27;distance&#x27;)</pre></div></div></div></div></div>"
      ],
      "text/plain": [
       "KNeighborsRegressor(n_neighbors=50, weights='distance')"
      ]
     },
     "execution_count": 32,
     "metadata": {},
     "output_type": "execute_result"
    }
   ],
   "source": [
    "knn.fit(X_train_scaled, y_train)"
   ]
  },
  {
   "cell_type": "code",
   "execution_count": 33,
   "id": "011092f9",
   "metadata": {},
   "outputs": [],
   "source": [
    "y_tr_pred = knn.predict(X_train_scaled)\n",
    "y_te_pred = knn.predict(X_test_scaled)"
   ]
  },
  {
   "cell_type": "code",
   "execution_count": 34,
   "id": "1bae3505",
   "metadata": {},
   "outputs": [
    {
     "data": {
      "text/plain": [
       "0.028905494692232914"
      ]
     },
     "execution_count": 34,
     "metadata": {},
     "output_type": "execute_result"
    }
   ],
   "source": [
    "r2_score(y_test, y_te_pred)"
   ]
  },
  {
   "cell_type": "code",
   "execution_count": 35,
   "id": "599976cf",
   "metadata": {},
   "outputs": [
    {
     "data": {
      "text/plain": [
       "0.6566240946791971"
      ]
     },
     "execution_count": 35,
     "metadata": {},
     "output_type": "execute_result"
    }
   ],
   "source": [
    "mean_absolute_error(y_test, y_te_pred)"
   ]
  },
  {
   "cell_type": "code",
   "execution_count": 36,
   "id": "0414ff0b",
   "metadata": {},
   "outputs": [
    {
     "data": {
      "text/html": [
       "<style>#sk-container-id-2 {color: black;}#sk-container-id-2 pre{padding: 0;}#sk-container-id-2 div.sk-toggleable {background-color: white;}#sk-container-id-2 label.sk-toggleable__label {cursor: pointer;display: block;width: 100%;margin-bottom: 0;padding: 0.3em;box-sizing: border-box;text-align: center;}#sk-container-id-2 label.sk-toggleable__label-arrow:before {content: \"▸\";float: left;margin-right: 0.25em;color: #696969;}#sk-container-id-2 label.sk-toggleable__label-arrow:hover:before {color: black;}#sk-container-id-2 div.sk-estimator:hover label.sk-toggleable__label-arrow:before {color: black;}#sk-container-id-2 div.sk-toggleable__content {max-height: 0;max-width: 0;overflow: hidden;text-align: left;background-color: #f0f8ff;}#sk-container-id-2 div.sk-toggleable__content pre {margin: 0.2em;color: black;border-radius: 0.25em;background-color: #f0f8ff;}#sk-container-id-2 input.sk-toggleable__control:checked~div.sk-toggleable__content {max-height: 200px;max-width: 100%;overflow: auto;}#sk-container-id-2 input.sk-toggleable__control:checked~label.sk-toggleable__label-arrow:before {content: \"▾\";}#sk-container-id-2 div.sk-estimator input.sk-toggleable__control:checked~label.sk-toggleable__label {background-color: #d4ebff;}#sk-container-id-2 div.sk-label input.sk-toggleable__control:checked~label.sk-toggleable__label {background-color: #d4ebff;}#sk-container-id-2 input.sk-hidden--visually {border: 0;clip: rect(1px 1px 1px 1px);clip: rect(1px, 1px, 1px, 1px);height: 1px;margin: -1px;overflow: hidden;padding: 0;position: absolute;width: 1px;}#sk-container-id-2 div.sk-estimator {font-family: monospace;background-color: #f0f8ff;border: 1px dotted black;border-radius: 0.25em;box-sizing: border-box;margin-bottom: 0.5em;}#sk-container-id-2 div.sk-estimator:hover {background-color: #d4ebff;}#sk-container-id-2 div.sk-parallel-item::after {content: \"\";width: 100%;border-bottom: 1px solid gray;flex-grow: 1;}#sk-container-id-2 div.sk-label:hover label.sk-toggleable__label {background-color: #d4ebff;}#sk-container-id-2 div.sk-serial::before {content: \"\";position: absolute;border-left: 1px solid gray;box-sizing: border-box;top: 0;bottom: 0;left: 50%;z-index: 0;}#sk-container-id-2 div.sk-serial {display: flex;flex-direction: column;align-items: center;background-color: white;padding-right: 0.2em;padding-left: 0.2em;position: relative;}#sk-container-id-2 div.sk-item {position: relative;z-index: 1;}#sk-container-id-2 div.sk-parallel {display: flex;align-items: stretch;justify-content: center;background-color: white;position: relative;}#sk-container-id-2 div.sk-item::before, #sk-container-id-2 div.sk-parallel-item::before {content: \"\";position: absolute;border-left: 1px solid gray;box-sizing: border-box;top: 0;bottom: 0;left: 50%;z-index: -1;}#sk-container-id-2 div.sk-parallel-item {display: flex;flex-direction: column;z-index: 1;position: relative;background-color: white;}#sk-container-id-2 div.sk-parallel-item:first-child::after {align-self: flex-end;width: 50%;}#sk-container-id-2 div.sk-parallel-item:last-child::after {align-self: flex-start;width: 50%;}#sk-container-id-2 div.sk-parallel-item:only-child::after {width: 0;}#sk-container-id-2 div.sk-dashed-wrapped {border: 1px dashed gray;margin: 0 0.4em 0.5em 0.4em;box-sizing: border-box;padding-bottom: 0.4em;background-color: white;}#sk-container-id-2 div.sk-label label {font-family: monospace;font-weight: bold;display: inline-block;line-height: 1.2em;}#sk-container-id-2 div.sk-label-container {text-align: center;}#sk-container-id-2 div.sk-container {/* jupyter's `normalize.less` sets `[hidden] { display: none; }` but bootstrap.min.css set `[hidden] { display: none !important; }` so we also need the `!important` here to be able to override the default hidden behavior on the sphinx rendered scikit-learn.org. See: https://github.com/scikit-learn/scikit-learn/issues/21755 */display: inline-block !important;position: relative;}#sk-container-id-2 div.sk-text-repr-fallback {display: none;}</style><div id=\"sk-container-id-2\" class=\"sk-top-container\"><div class=\"sk-text-repr-fallback\"><pre>KNeighborsRegressor(n_neighbors=50, weights=&#x27;distance&#x27;)</pre><b>In a Jupyter environment, please rerun this cell to show the HTML representation or trust the notebook. <br />On GitHub, the HTML representation is unable to render, please try loading this page with nbviewer.org.</b></div><div class=\"sk-container\" hidden><div class=\"sk-item\"><div class=\"sk-estimator sk-toggleable\"><input class=\"sk-toggleable__control sk-hidden--visually\" id=\"sk-estimator-id-2\" type=\"checkbox\" checked><label for=\"sk-estimator-id-2\" class=\"sk-toggleable__label sk-toggleable__label-arrow\">KNeighborsRegressor</label><div class=\"sk-toggleable__content\"><pre>KNeighborsRegressor(n_neighbors=50, weights=&#x27;distance&#x27;)</pre></div></div></div></div></div>"
      ],
      "text/plain": [
       "KNeighborsRegressor(n_neighbors=50, weights='distance')"
      ]
     },
     "execution_count": 36,
     "metadata": {},
     "output_type": "execute_result"
    }
   ],
   "source": [
    "knn.fit(X_train2_scaled, y_train2)"
   ]
  },
  {
   "cell_type": "code",
   "execution_count": 37,
   "id": "09edb4de",
   "metadata": {},
   "outputs": [],
   "source": [
    "y_tr_pred2 = knn.predict(X_train2_scaled)\n",
    "y_te_pred2 = knn.predict(X_test2_scaled)"
   ]
  },
  {
   "cell_type": "code",
   "execution_count": 38,
   "id": "6028264c",
   "metadata": {},
   "outputs": [
    {
     "data": {
      "text/plain": [
       "0.012356559780633214"
      ]
     },
     "execution_count": 38,
     "metadata": {},
     "output_type": "execute_result"
    }
   ],
   "source": [
    "r2_score(y_test2, y_te_pred2)"
   ]
  },
  {
   "cell_type": "code",
   "execution_count": 39,
   "id": "012cffe8",
   "metadata": {},
   "outputs": [
    {
     "data": {
      "text/plain": [
       "0.1254517719251689"
      ]
     },
     "execution_count": 39,
     "metadata": {},
     "output_type": "execute_result"
    }
   ],
   "source": [
    "mean_absolute_error(y_test2, y_te_pred2)"
   ]
  },
  {
   "cell_type": "markdown",
   "id": "d6888ce1",
   "metadata": {},
   "source": [
    "From the evaluation metrics we have here we can see that this model preformed much worse than both the linear and random forest regression models. The $R^2$  score is much lower while the mae is about the same when applying this model to the first and second train test sets."
   ]
  },
  {
   "cell_type": "markdown",
   "id": "e20d27a1",
   "metadata": {},
   "source": [
    "After applying a Linear regression, Random forest regression and K-Neighbors Regression, it seems that we get the best evaluation metrics with the Random forest regression model. "
   ]
  },
  {
   "cell_type": "markdown",
   "id": "63b6db7b",
   "metadata": {},
   "source": [
    "## Hyperparameters"
   ]
  },
  {
   "cell_type": "markdown",
   "id": "02e60489",
   "metadata": {},
   "source": [
    "Let’s tweak the parameters and see if we can improve the model."
   ]
  },
  {
   "cell_type": "markdown",
   "id": "1a78178e",
   "metadata": {},
   "source": [
    "Because we have a very large data set I would like to run a RandomizedSearchCV for the hyperparameters individually. I will start with the max_features parameter. "
   ]
  },
  {
   "cell_type": "code",
   "execution_count": 41,
   "id": "b945bf02",
   "metadata": {},
   "outputs": [],
   "source": [
    "model = RandomForestRegressor(max_depth=2,random_state=22, n_jobs=-1) \n",
    "rs_params = {\n",
    "     \"max_features\" : [10, 20, 30,40,50]\n",
    "}"
   ]
  },
  {
   "cell_type": "code",
   "execution_count": 42,
   "id": "cb687786",
   "metadata": {},
   "outputs": [],
   "source": [
    "rf_rs_cv = RandomizedSearchCV(estimator=model, param_distributions=rs_params, n_jobs=-1)"
   ]
  },
  {
   "cell_type": "code",
   "execution_count": 43,
   "id": "092e3dff",
   "metadata": {},
   "outputs": [
    {
     "name": "stderr",
     "output_type": "stream",
     "text": [
      "C:\\Users\\jwatki8\\anaconda3\\lib\\site-packages\\sklearn\\model_selection\\_search.py:307: UserWarning: The total space of parameters 5 is smaller than n_iter=10. Running 5 iterations. For exhaustive searches, use GridSearchCV.\n",
      "  warnings.warn(\n"
     ]
    },
    {
     "data": {
      "text/html": [
       "<style>#sk-container-id-3 {color: black;}#sk-container-id-3 pre{padding: 0;}#sk-container-id-3 div.sk-toggleable {background-color: white;}#sk-container-id-3 label.sk-toggleable__label {cursor: pointer;display: block;width: 100%;margin-bottom: 0;padding: 0.3em;box-sizing: border-box;text-align: center;}#sk-container-id-3 label.sk-toggleable__label-arrow:before {content: \"▸\";float: left;margin-right: 0.25em;color: #696969;}#sk-container-id-3 label.sk-toggleable__label-arrow:hover:before {color: black;}#sk-container-id-3 div.sk-estimator:hover label.sk-toggleable__label-arrow:before {color: black;}#sk-container-id-3 div.sk-toggleable__content {max-height: 0;max-width: 0;overflow: hidden;text-align: left;background-color: #f0f8ff;}#sk-container-id-3 div.sk-toggleable__content pre {margin: 0.2em;color: black;border-radius: 0.25em;background-color: #f0f8ff;}#sk-container-id-3 input.sk-toggleable__control:checked~div.sk-toggleable__content {max-height: 200px;max-width: 100%;overflow: auto;}#sk-container-id-3 input.sk-toggleable__control:checked~label.sk-toggleable__label-arrow:before {content: \"▾\";}#sk-container-id-3 div.sk-estimator input.sk-toggleable__control:checked~label.sk-toggleable__label {background-color: #d4ebff;}#sk-container-id-3 div.sk-label input.sk-toggleable__control:checked~label.sk-toggleable__label {background-color: #d4ebff;}#sk-container-id-3 input.sk-hidden--visually {border: 0;clip: rect(1px 1px 1px 1px);clip: rect(1px, 1px, 1px, 1px);height: 1px;margin: -1px;overflow: hidden;padding: 0;position: absolute;width: 1px;}#sk-container-id-3 div.sk-estimator {font-family: monospace;background-color: #f0f8ff;border: 1px dotted black;border-radius: 0.25em;box-sizing: border-box;margin-bottom: 0.5em;}#sk-container-id-3 div.sk-estimator:hover {background-color: #d4ebff;}#sk-container-id-3 div.sk-parallel-item::after {content: \"\";width: 100%;border-bottom: 1px solid gray;flex-grow: 1;}#sk-container-id-3 div.sk-label:hover label.sk-toggleable__label {background-color: #d4ebff;}#sk-container-id-3 div.sk-serial::before {content: \"\";position: absolute;border-left: 1px solid gray;box-sizing: border-box;top: 0;bottom: 0;left: 50%;z-index: 0;}#sk-container-id-3 div.sk-serial {display: flex;flex-direction: column;align-items: center;background-color: white;padding-right: 0.2em;padding-left: 0.2em;position: relative;}#sk-container-id-3 div.sk-item {position: relative;z-index: 1;}#sk-container-id-3 div.sk-parallel {display: flex;align-items: stretch;justify-content: center;background-color: white;position: relative;}#sk-container-id-3 div.sk-item::before, #sk-container-id-3 div.sk-parallel-item::before {content: \"\";position: absolute;border-left: 1px solid gray;box-sizing: border-box;top: 0;bottom: 0;left: 50%;z-index: -1;}#sk-container-id-3 div.sk-parallel-item {display: flex;flex-direction: column;z-index: 1;position: relative;background-color: white;}#sk-container-id-3 div.sk-parallel-item:first-child::after {align-self: flex-end;width: 50%;}#sk-container-id-3 div.sk-parallel-item:last-child::after {align-self: flex-start;width: 50%;}#sk-container-id-3 div.sk-parallel-item:only-child::after {width: 0;}#sk-container-id-3 div.sk-dashed-wrapped {border: 1px dashed gray;margin: 0 0.4em 0.5em 0.4em;box-sizing: border-box;padding-bottom: 0.4em;background-color: white;}#sk-container-id-3 div.sk-label label {font-family: monospace;font-weight: bold;display: inline-block;line-height: 1.2em;}#sk-container-id-3 div.sk-label-container {text-align: center;}#sk-container-id-3 div.sk-container {/* jupyter's `normalize.less` sets `[hidden] { display: none; }` but bootstrap.min.css set `[hidden] { display: none !important; }` so we also need the `!important` here to be able to override the default hidden behavior on the sphinx rendered scikit-learn.org. See: https://github.com/scikit-learn/scikit-learn/issues/21755 */display: inline-block !important;position: relative;}#sk-container-id-3 div.sk-text-repr-fallback {display: none;}</style><div id=\"sk-container-id-3\" class=\"sk-top-container\"><div class=\"sk-text-repr-fallback\"><pre>RandomizedSearchCV(estimator=RandomForestRegressor(max_depth=2, n_jobs=-1,\n",
       "                                                   random_state=22),\n",
       "                   n_jobs=-1,\n",
       "                   param_distributions={&#x27;max_features&#x27;: [10, 20, 30, 40, 50]})</pre><b>In a Jupyter environment, please rerun this cell to show the HTML representation or trust the notebook. <br />On GitHub, the HTML representation is unable to render, please try loading this page with nbviewer.org.</b></div><div class=\"sk-container\" hidden><div class=\"sk-item sk-dashed-wrapped\"><div class=\"sk-label-container\"><div class=\"sk-label sk-toggleable\"><input class=\"sk-toggleable__control sk-hidden--visually\" id=\"sk-estimator-id-3\" type=\"checkbox\" ><label for=\"sk-estimator-id-3\" class=\"sk-toggleable__label sk-toggleable__label-arrow\">RandomizedSearchCV</label><div class=\"sk-toggleable__content\"><pre>RandomizedSearchCV(estimator=RandomForestRegressor(max_depth=2, n_jobs=-1,\n",
       "                                                   random_state=22),\n",
       "                   n_jobs=-1,\n",
       "                   param_distributions={&#x27;max_features&#x27;: [10, 20, 30, 40, 50]})</pre></div></div></div><div class=\"sk-parallel\"><div class=\"sk-parallel-item\"><div class=\"sk-item\"><div class=\"sk-label-container\"><div class=\"sk-label sk-toggleable\"><input class=\"sk-toggleable__control sk-hidden--visually\" id=\"sk-estimator-id-4\" type=\"checkbox\" ><label for=\"sk-estimator-id-4\" class=\"sk-toggleable__label sk-toggleable__label-arrow\">estimator: RandomForestRegressor</label><div class=\"sk-toggleable__content\"><pre>RandomForestRegressor(max_depth=2, n_jobs=-1, random_state=22)</pre></div></div></div><div class=\"sk-serial\"><div class=\"sk-item\"><div class=\"sk-estimator sk-toggleable\"><input class=\"sk-toggleable__control sk-hidden--visually\" id=\"sk-estimator-id-5\" type=\"checkbox\" ><label for=\"sk-estimator-id-5\" class=\"sk-toggleable__label sk-toggleable__label-arrow\">RandomForestRegressor</label><div class=\"sk-toggleable__content\"><pre>RandomForestRegressor(max_depth=2, n_jobs=-1, random_state=22)</pre></div></div></div></div></div></div></div></div></div></div>"
      ],
      "text/plain": [
       "RandomizedSearchCV(estimator=RandomForestRegressor(max_depth=2, n_jobs=-1,\n",
       "                                                   random_state=22),\n",
       "                   n_jobs=-1,\n",
       "                   param_distributions={'max_features': [10, 20, 30, 40, 50]})"
      ]
     },
     "execution_count": 43,
     "metadata": {},
     "output_type": "execute_result"
    }
   ],
   "source": [
    "rf_rs_cv.fit(X_train_scaled, y_train)"
   ]
  },
  {
   "cell_type": "code",
   "execution_count": 44,
   "id": "cc53bcc6",
   "metadata": {},
   "outputs": [
    {
     "data": {
      "text/plain": [
       "{'max_features': 50}"
      ]
     },
     "execution_count": 44,
     "metadata": {},
     "output_type": "execute_result"
    }
   ],
   "source": [
    "rf_rs_cv.best_params_\n",
    "#print(best_parameters)"
   ]
  },
  {
   "cell_type": "markdown",
   "id": "400f1662",
   "metadata": {},
   "source": [
    "It looks like the best number of features to consider is 50. Let’s move on to the n_estimators parameter."
   ]
  },
  {
   "cell_type": "code",
   "execution_count": 45,
   "id": "a8ceccd1",
   "metadata": {},
   "outputs": [],
   "source": [
    "model = RandomForestRegressor(max_depth=2,random_state=22, n_jobs=-1) \n",
    "rs_params = {\n",
    "    \"n_estimators\" : [100,200,300,400], \"max_features\" : [50]\n",
    "}"
   ]
  },
  {
   "cell_type": "code",
   "execution_count": 46,
   "id": "03c6451d",
   "metadata": {},
   "outputs": [],
   "source": [
    "rf_rs_cv = RandomizedSearchCV(estimator=model, param_distributions=rs_params, n_jobs=-1)"
   ]
  },
  {
   "cell_type": "code",
   "execution_count": 47,
   "id": "59b9416e",
   "metadata": {},
   "outputs": [
    {
     "name": "stderr",
     "output_type": "stream",
     "text": [
      "C:\\Users\\jwatki8\\anaconda3\\lib\\site-packages\\sklearn\\model_selection\\_search.py:307: UserWarning: The total space of parameters 4 is smaller than n_iter=10. Running 4 iterations. For exhaustive searches, use GridSearchCV.\n",
      "  warnings.warn(\n"
     ]
    },
    {
     "data": {
      "text/html": [
       "<style>#sk-container-id-4 {color: black;}#sk-container-id-4 pre{padding: 0;}#sk-container-id-4 div.sk-toggleable {background-color: white;}#sk-container-id-4 label.sk-toggleable__label {cursor: pointer;display: block;width: 100%;margin-bottom: 0;padding: 0.3em;box-sizing: border-box;text-align: center;}#sk-container-id-4 label.sk-toggleable__label-arrow:before {content: \"▸\";float: left;margin-right: 0.25em;color: #696969;}#sk-container-id-4 label.sk-toggleable__label-arrow:hover:before {color: black;}#sk-container-id-4 div.sk-estimator:hover label.sk-toggleable__label-arrow:before {color: black;}#sk-container-id-4 div.sk-toggleable__content {max-height: 0;max-width: 0;overflow: hidden;text-align: left;background-color: #f0f8ff;}#sk-container-id-4 div.sk-toggleable__content pre {margin: 0.2em;color: black;border-radius: 0.25em;background-color: #f0f8ff;}#sk-container-id-4 input.sk-toggleable__control:checked~div.sk-toggleable__content {max-height: 200px;max-width: 100%;overflow: auto;}#sk-container-id-4 input.sk-toggleable__control:checked~label.sk-toggleable__label-arrow:before {content: \"▾\";}#sk-container-id-4 div.sk-estimator input.sk-toggleable__control:checked~label.sk-toggleable__label {background-color: #d4ebff;}#sk-container-id-4 div.sk-label input.sk-toggleable__control:checked~label.sk-toggleable__label {background-color: #d4ebff;}#sk-container-id-4 input.sk-hidden--visually {border: 0;clip: rect(1px 1px 1px 1px);clip: rect(1px, 1px, 1px, 1px);height: 1px;margin: -1px;overflow: hidden;padding: 0;position: absolute;width: 1px;}#sk-container-id-4 div.sk-estimator {font-family: monospace;background-color: #f0f8ff;border: 1px dotted black;border-radius: 0.25em;box-sizing: border-box;margin-bottom: 0.5em;}#sk-container-id-4 div.sk-estimator:hover {background-color: #d4ebff;}#sk-container-id-4 div.sk-parallel-item::after {content: \"\";width: 100%;border-bottom: 1px solid gray;flex-grow: 1;}#sk-container-id-4 div.sk-label:hover label.sk-toggleable__label {background-color: #d4ebff;}#sk-container-id-4 div.sk-serial::before {content: \"\";position: absolute;border-left: 1px solid gray;box-sizing: border-box;top: 0;bottom: 0;left: 50%;z-index: 0;}#sk-container-id-4 div.sk-serial {display: flex;flex-direction: column;align-items: center;background-color: white;padding-right: 0.2em;padding-left: 0.2em;position: relative;}#sk-container-id-4 div.sk-item {position: relative;z-index: 1;}#sk-container-id-4 div.sk-parallel {display: flex;align-items: stretch;justify-content: center;background-color: white;position: relative;}#sk-container-id-4 div.sk-item::before, #sk-container-id-4 div.sk-parallel-item::before {content: \"\";position: absolute;border-left: 1px solid gray;box-sizing: border-box;top: 0;bottom: 0;left: 50%;z-index: -1;}#sk-container-id-4 div.sk-parallel-item {display: flex;flex-direction: column;z-index: 1;position: relative;background-color: white;}#sk-container-id-4 div.sk-parallel-item:first-child::after {align-self: flex-end;width: 50%;}#sk-container-id-4 div.sk-parallel-item:last-child::after {align-self: flex-start;width: 50%;}#sk-container-id-4 div.sk-parallel-item:only-child::after {width: 0;}#sk-container-id-4 div.sk-dashed-wrapped {border: 1px dashed gray;margin: 0 0.4em 0.5em 0.4em;box-sizing: border-box;padding-bottom: 0.4em;background-color: white;}#sk-container-id-4 div.sk-label label {font-family: monospace;font-weight: bold;display: inline-block;line-height: 1.2em;}#sk-container-id-4 div.sk-label-container {text-align: center;}#sk-container-id-4 div.sk-container {/* jupyter's `normalize.less` sets `[hidden] { display: none; }` but bootstrap.min.css set `[hidden] { display: none !important; }` so we also need the `!important` here to be able to override the default hidden behavior on the sphinx rendered scikit-learn.org. See: https://github.com/scikit-learn/scikit-learn/issues/21755 */display: inline-block !important;position: relative;}#sk-container-id-4 div.sk-text-repr-fallback {display: none;}</style><div id=\"sk-container-id-4\" class=\"sk-top-container\"><div class=\"sk-text-repr-fallback\"><pre>RandomizedSearchCV(estimator=RandomForestRegressor(max_depth=2, n_jobs=-1,\n",
       "                                                   random_state=22),\n",
       "                   n_jobs=-1,\n",
       "                   param_distributions={&#x27;max_features&#x27;: [50],\n",
       "                                        &#x27;n_estimators&#x27;: [100, 200, 300, 400]})</pre><b>In a Jupyter environment, please rerun this cell to show the HTML representation or trust the notebook. <br />On GitHub, the HTML representation is unable to render, please try loading this page with nbviewer.org.</b></div><div class=\"sk-container\" hidden><div class=\"sk-item sk-dashed-wrapped\"><div class=\"sk-label-container\"><div class=\"sk-label sk-toggleable\"><input class=\"sk-toggleable__control sk-hidden--visually\" id=\"sk-estimator-id-6\" type=\"checkbox\" ><label for=\"sk-estimator-id-6\" class=\"sk-toggleable__label sk-toggleable__label-arrow\">RandomizedSearchCV</label><div class=\"sk-toggleable__content\"><pre>RandomizedSearchCV(estimator=RandomForestRegressor(max_depth=2, n_jobs=-1,\n",
       "                                                   random_state=22),\n",
       "                   n_jobs=-1,\n",
       "                   param_distributions={&#x27;max_features&#x27;: [50],\n",
       "                                        &#x27;n_estimators&#x27;: [100, 200, 300, 400]})</pre></div></div></div><div class=\"sk-parallel\"><div class=\"sk-parallel-item\"><div class=\"sk-item\"><div class=\"sk-label-container\"><div class=\"sk-label sk-toggleable\"><input class=\"sk-toggleable__control sk-hidden--visually\" id=\"sk-estimator-id-7\" type=\"checkbox\" ><label for=\"sk-estimator-id-7\" class=\"sk-toggleable__label sk-toggleable__label-arrow\">estimator: RandomForestRegressor</label><div class=\"sk-toggleable__content\"><pre>RandomForestRegressor(max_depth=2, n_jobs=-1, random_state=22)</pre></div></div></div><div class=\"sk-serial\"><div class=\"sk-item\"><div class=\"sk-estimator sk-toggleable\"><input class=\"sk-toggleable__control sk-hidden--visually\" id=\"sk-estimator-id-8\" type=\"checkbox\" ><label for=\"sk-estimator-id-8\" class=\"sk-toggleable__label sk-toggleable__label-arrow\">RandomForestRegressor</label><div class=\"sk-toggleable__content\"><pre>RandomForestRegressor(max_depth=2, n_jobs=-1, random_state=22)</pre></div></div></div></div></div></div></div></div></div></div>"
      ],
      "text/plain": [
       "RandomizedSearchCV(estimator=RandomForestRegressor(max_depth=2, n_jobs=-1,\n",
       "                                                   random_state=22),\n",
       "                   n_jobs=-1,\n",
       "                   param_distributions={'max_features': [50],\n",
       "                                        'n_estimators': [100, 200, 300, 400]})"
      ]
     },
     "execution_count": 47,
     "metadata": {},
     "output_type": "execute_result"
    }
   ],
   "source": [
    "rf_rs_cv.fit(X_train_scaled, y_train)"
   ]
  },
  {
   "cell_type": "code",
   "execution_count": 48,
   "id": "24e7cb07",
   "metadata": {},
   "outputs": [
    {
     "data": {
      "text/plain": [
       "{'n_estimators': 300, 'max_features': 50}"
      ]
     },
     "execution_count": 48,
     "metadata": {},
     "output_type": "execute_result"
    }
   ],
   "source": [
    "rf_rs_cv.best_params_\n",
    "#print(best_parameters)"
   ]
  },
  {
   "cell_type": "markdown",
   "id": "4fbf34e6",
   "metadata": {},
   "source": [
    "We can see here that 300 trees would work best. Now lets run through a few max_depth iterations."
   ]
  },
  {
   "cell_type": "code",
   "execution_count": 49,
   "id": "0ea30d1d",
   "metadata": {},
   "outputs": [],
   "source": [
    "model = RandomForestRegressor(random_state=22, n_jobs=-1) \n",
    "rs_params = {\n",
    "     \"max_features\" : [50],\"n_estimators\" : [300], \"max_depth\" : [2, 4, 6, 8]    \n",
    "}"
   ]
  },
  {
   "cell_type": "code",
   "execution_count": 50,
   "id": "ff667a2c",
   "metadata": {},
   "outputs": [],
   "source": [
    "rf_rs_cv = RandomizedSearchCV(estimator=model, param_distributions=rs_params, n_jobs=-1)"
   ]
  },
  {
   "cell_type": "code",
   "execution_count": 51,
   "id": "9fcb739a",
   "metadata": {},
   "outputs": [
    {
     "name": "stderr",
     "output_type": "stream",
     "text": [
      "C:\\Users\\jwatki8\\anaconda3\\lib\\site-packages\\sklearn\\model_selection\\_search.py:307: UserWarning: The total space of parameters 4 is smaller than n_iter=10. Running 4 iterations. For exhaustive searches, use GridSearchCV.\n",
      "  warnings.warn(\n"
     ]
    },
    {
     "data": {
      "text/html": [
       "<style>#sk-container-id-5 {color: black;}#sk-container-id-5 pre{padding: 0;}#sk-container-id-5 div.sk-toggleable {background-color: white;}#sk-container-id-5 label.sk-toggleable__label {cursor: pointer;display: block;width: 100%;margin-bottom: 0;padding: 0.3em;box-sizing: border-box;text-align: center;}#sk-container-id-5 label.sk-toggleable__label-arrow:before {content: \"▸\";float: left;margin-right: 0.25em;color: #696969;}#sk-container-id-5 label.sk-toggleable__label-arrow:hover:before {color: black;}#sk-container-id-5 div.sk-estimator:hover label.sk-toggleable__label-arrow:before {color: black;}#sk-container-id-5 div.sk-toggleable__content {max-height: 0;max-width: 0;overflow: hidden;text-align: left;background-color: #f0f8ff;}#sk-container-id-5 div.sk-toggleable__content pre {margin: 0.2em;color: black;border-radius: 0.25em;background-color: #f0f8ff;}#sk-container-id-5 input.sk-toggleable__control:checked~div.sk-toggleable__content {max-height: 200px;max-width: 100%;overflow: auto;}#sk-container-id-5 input.sk-toggleable__control:checked~label.sk-toggleable__label-arrow:before {content: \"▾\";}#sk-container-id-5 div.sk-estimator input.sk-toggleable__control:checked~label.sk-toggleable__label {background-color: #d4ebff;}#sk-container-id-5 div.sk-label input.sk-toggleable__control:checked~label.sk-toggleable__label {background-color: #d4ebff;}#sk-container-id-5 input.sk-hidden--visually {border: 0;clip: rect(1px 1px 1px 1px);clip: rect(1px, 1px, 1px, 1px);height: 1px;margin: -1px;overflow: hidden;padding: 0;position: absolute;width: 1px;}#sk-container-id-5 div.sk-estimator {font-family: monospace;background-color: #f0f8ff;border: 1px dotted black;border-radius: 0.25em;box-sizing: border-box;margin-bottom: 0.5em;}#sk-container-id-5 div.sk-estimator:hover {background-color: #d4ebff;}#sk-container-id-5 div.sk-parallel-item::after {content: \"\";width: 100%;border-bottom: 1px solid gray;flex-grow: 1;}#sk-container-id-5 div.sk-label:hover label.sk-toggleable__label {background-color: #d4ebff;}#sk-container-id-5 div.sk-serial::before {content: \"\";position: absolute;border-left: 1px solid gray;box-sizing: border-box;top: 0;bottom: 0;left: 50%;z-index: 0;}#sk-container-id-5 div.sk-serial {display: flex;flex-direction: column;align-items: center;background-color: white;padding-right: 0.2em;padding-left: 0.2em;position: relative;}#sk-container-id-5 div.sk-item {position: relative;z-index: 1;}#sk-container-id-5 div.sk-parallel {display: flex;align-items: stretch;justify-content: center;background-color: white;position: relative;}#sk-container-id-5 div.sk-item::before, #sk-container-id-5 div.sk-parallel-item::before {content: \"\";position: absolute;border-left: 1px solid gray;box-sizing: border-box;top: 0;bottom: 0;left: 50%;z-index: -1;}#sk-container-id-5 div.sk-parallel-item {display: flex;flex-direction: column;z-index: 1;position: relative;background-color: white;}#sk-container-id-5 div.sk-parallel-item:first-child::after {align-self: flex-end;width: 50%;}#sk-container-id-5 div.sk-parallel-item:last-child::after {align-self: flex-start;width: 50%;}#sk-container-id-5 div.sk-parallel-item:only-child::after {width: 0;}#sk-container-id-5 div.sk-dashed-wrapped {border: 1px dashed gray;margin: 0 0.4em 0.5em 0.4em;box-sizing: border-box;padding-bottom: 0.4em;background-color: white;}#sk-container-id-5 div.sk-label label {font-family: monospace;font-weight: bold;display: inline-block;line-height: 1.2em;}#sk-container-id-5 div.sk-label-container {text-align: center;}#sk-container-id-5 div.sk-container {/* jupyter's `normalize.less` sets `[hidden] { display: none; }` but bootstrap.min.css set `[hidden] { display: none !important; }` so we also need the `!important` here to be able to override the default hidden behavior on the sphinx rendered scikit-learn.org. See: https://github.com/scikit-learn/scikit-learn/issues/21755 */display: inline-block !important;position: relative;}#sk-container-id-5 div.sk-text-repr-fallback {display: none;}</style><div id=\"sk-container-id-5\" class=\"sk-top-container\"><div class=\"sk-text-repr-fallback\"><pre>RandomizedSearchCV(estimator=RandomForestRegressor(n_jobs=-1, random_state=22),\n",
       "                   n_jobs=-1,\n",
       "                   param_distributions={&#x27;max_depth&#x27;: [2, 4, 6, 8],\n",
       "                                        &#x27;max_features&#x27;: [50],\n",
       "                                        &#x27;n_estimators&#x27;: [300]})</pre><b>In a Jupyter environment, please rerun this cell to show the HTML representation or trust the notebook. <br />On GitHub, the HTML representation is unable to render, please try loading this page with nbviewer.org.</b></div><div class=\"sk-container\" hidden><div class=\"sk-item sk-dashed-wrapped\"><div class=\"sk-label-container\"><div class=\"sk-label sk-toggleable\"><input class=\"sk-toggleable__control sk-hidden--visually\" id=\"sk-estimator-id-9\" type=\"checkbox\" ><label for=\"sk-estimator-id-9\" class=\"sk-toggleable__label sk-toggleable__label-arrow\">RandomizedSearchCV</label><div class=\"sk-toggleable__content\"><pre>RandomizedSearchCV(estimator=RandomForestRegressor(n_jobs=-1, random_state=22),\n",
       "                   n_jobs=-1,\n",
       "                   param_distributions={&#x27;max_depth&#x27;: [2, 4, 6, 8],\n",
       "                                        &#x27;max_features&#x27;: [50],\n",
       "                                        &#x27;n_estimators&#x27;: [300]})</pre></div></div></div><div class=\"sk-parallel\"><div class=\"sk-parallel-item\"><div class=\"sk-item\"><div class=\"sk-label-container\"><div class=\"sk-label sk-toggleable\"><input class=\"sk-toggleable__control sk-hidden--visually\" id=\"sk-estimator-id-10\" type=\"checkbox\" ><label for=\"sk-estimator-id-10\" class=\"sk-toggleable__label sk-toggleable__label-arrow\">estimator: RandomForestRegressor</label><div class=\"sk-toggleable__content\"><pre>RandomForestRegressor(n_jobs=-1, random_state=22)</pre></div></div></div><div class=\"sk-serial\"><div class=\"sk-item\"><div class=\"sk-estimator sk-toggleable\"><input class=\"sk-toggleable__control sk-hidden--visually\" id=\"sk-estimator-id-11\" type=\"checkbox\" ><label for=\"sk-estimator-id-11\" class=\"sk-toggleable__label sk-toggleable__label-arrow\">RandomForestRegressor</label><div class=\"sk-toggleable__content\"><pre>RandomForestRegressor(n_jobs=-1, random_state=22)</pre></div></div></div></div></div></div></div></div></div></div>"
      ],
      "text/plain": [
       "RandomizedSearchCV(estimator=RandomForestRegressor(n_jobs=-1, random_state=22),\n",
       "                   n_jobs=-1,\n",
       "                   param_distributions={'max_depth': [2, 4, 6, 8],\n",
       "                                        'max_features': [50],\n",
       "                                        'n_estimators': [300]})"
      ]
     },
     "execution_count": 51,
     "metadata": {},
     "output_type": "execute_result"
    }
   ],
   "source": [
    "rf_rs_cv.fit(X_train_scaled, y_train)"
   ]
  },
  {
   "cell_type": "code",
   "execution_count": 52,
   "id": "3e21aa24",
   "metadata": {},
   "outputs": [
    {
     "data": {
      "text/plain": [
       "{'n_estimators': 300, 'max_features': 50, 'max_depth': 8}"
      ]
     },
     "execution_count": 52,
     "metadata": {},
     "output_type": "execute_result"
    }
   ],
   "source": [
    "rf_rs_cv.best_params_"
   ]
  },
  {
   "cell_type": "markdown",
   "id": "d6c7404d",
   "metadata": {},
   "source": [
    "The max_depth of 8 is our best parameter value."
   ]
  },
  {
   "cell_type": "markdown",
   "id": "90e91605",
   "metadata": {},
   "source": [
    "Now that I have a some new hyperparameter values, let’s apply the model to both of the train test sets."
   ]
  },
  {
   "cell_type": "code",
   "execution_count": 53,
   "id": "a080d3f3",
   "metadata": {},
   "outputs": [],
   "source": [
    "rfr2 = RandomForestRegressor(max_depth=8,n_estimators=300, max_features=50, random_state=22).fit(X_train_scaled, y_train)"
   ]
  },
  {
   "cell_type": "code",
   "execution_count": 54,
   "id": "2fac5b69",
   "metadata": {},
   "outputs": [],
   "source": [
    "y_tr_pred = rfr2.predict(X_train_scaled)\n",
    "y_te_pred = rfr2.predict(X_test_scaled)"
   ]
  },
  {
   "cell_type": "code",
   "execution_count": 55,
   "id": "918a101c",
   "metadata": {},
   "outputs": [
    {
     "data": {
      "text/plain": [
       "(0.1341797351145646, 0.10488857478490299)"
      ]
     },
     "execution_count": 55,
     "metadata": {},
     "output_type": "execute_result"
    }
   ],
   "source": [
    "r2_score(y_train, y_tr_pred), r2_score(y_test, y_te_pred)"
   ]
  },
  {
   "cell_type": "code",
   "execution_count": 56,
   "id": "c8e2f707",
   "metadata": {},
   "outputs": [
    {
     "data": {
      "text/plain": [
       "(0.6322879544593384, 0.6342450896901101)"
      ]
     },
     "execution_count": 56,
     "metadata": {},
     "output_type": "execute_result"
    }
   ],
   "source": [
    "mean_absolute_error(y_train, y_tr_pred), mean_absolute_error(y_test, y_te_pred)"
   ]
  },
  {
   "cell_type": "code",
   "execution_count": 57,
   "id": "17f2c72d",
   "metadata": {},
   "outputs": [],
   "source": [
    "rfr2 = RandomForestRegressor(max_depth=8,n_estimators=300, max_features=50, random_state=22).fit(X_train2_scaled, y_train2)"
   ]
  },
  {
   "cell_type": "code",
   "execution_count": 58,
   "id": "14676511",
   "metadata": {},
   "outputs": [],
   "source": [
    "y_tr_pred2 = rfr2.predict(X_train2_scaled)\n",
    "y_te_pred2 = rfr2.predict(X_test2_scaled)"
   ]
  },
  {
   "cell_type": "code",
   "execution_count": 59,
   "id": "b01b0f13",
   "metadata": {},
   "outputs": [
    {
     "data": {
      "text/plain": [
       "(0.10764744605089172, 0.08916027769725521)"
      ]
     },
     "execution_count": 59,
     "metadata": {},
     "output_type": "execute_result"
    }
   ],
   "source": [
    "r2_score(y_train2, y_tr_pred2), r2_score(y_test2, y_te_pred2)"
   ]
  },
  {
   "cell_type": "code",
   "execution_count": 60,
   "id": "08898e6f",
   "metadata": {},
   "outputs": [
    {
     "data": {
      "text/plain": [
       "(0.6322879544593384, 0.6342450896901101)"
      ]
     },
     "execution_count": 60,
     "metadata": {},
     "output_type": "execute_result"
    }
   ],
   "source": [
    "mean_absolute_error(y_train, y_tr_pred), mean_absolute_error(y_test, y_te_pred)"
   ]
  },
  {
   "cell_type": "markdown",
   "id": "60bbb631",
   "metadata": {},
   "source": [
    "## Conclusion"
   ]
  },
  {
   "cell_type": "markdown",
   "id": "e0128c50",
   "metadata": {},
   "source": [
    "Although the running the model using these hyperparameters gives us the best $R^2$  scores we’ve seen thus far along with a comparable mae to the other model iterations, our features still don’t give us a lot of predictive power. Also, it does seem that overall the model performs better on our rating mean target variable than it does our review polarity variable.  \n",
    "\n",
    "Our $R^2$  for the train and test sets are 0.134 and 0.105. \n",
    "\n",
    "Our mean absolute error for the train and test sets are 0.632 and 0.634."
   ]
  }
 ],
 "metadata": {
  "kernelspec": {
   "display_name": "Python 3 (ipykernel)",
   "language": "python",
   "name": "python3"
  },
  "language_info": {
   "codemirror_mode": {
    "name": "ipython",
    "version": 3
   },
   "file_extension": ".py",
   "mimetype": "text/x-python",
   "name": "python",
   "nbconvert_exporter": "python",
   "pygments_lexer": "ipython3",
   "version": "3.9.13"
  }
 },
 "nbformat": 4,
 "nbformat_minor": 5
}
