{
 "cells": [
  {
   "cell_type": "markdown",
   "id": "52a50a3e",
   "metadata": {},
   "source": [
    "# Capstone Pre-processing and Training Data Development- Jessica Williams"
   ]
  },
  {
   "cell_type": "code",
   "execution_count": 1,
   "id": "f9375860",
   "metadata": {},
   "outputs": [],
   "source": [
    "import pandas as pd\n",
    "import numpy as np\n",
    "import os\n",
    "import pickle\n",
    "import matplotlib.pyplot as plt\n",
    "import seaborn as sns\n",
    "from sklearn import __version__ as sklearn_version\n",
    "from sklearn.decomposition import PCA\n",
    "from sklearn.preprocessing import scale\n",
    "from sklearn.model_selection import train_test_split, cross_validate, GridSearchCV, learning_curve\n",
    "from sklearn.preprocessing import StandardScaler, MinMaxScaler\n",
    "from sklearn.dummy import DummyRegressor\n",
    "from sklearn.linear_model import LinearRegression\n",
    "from sklearn.ensemble import RandomForestRegressor\n",
    "from sklearn.metrics import r2_score, mean_squared_error, mean_absolute_error\n",
    "from sklearn.pipeline import make_pipeline\n",
    "from sklearn.impute import SimpleImputer\n",
    "from sklearn.feature_selection import SelectKBest, f_regression\n",
    "import datetime\n",
    "\n",
    "from sb_utils import save_file\n"
   ]
  },
  {
   "cell_type": "code",
   "execution_count": 2,
   "id": "e475c08c",
   "metadata": {},
   "outputs": [],
   "source": [
    "from sklearn.naive_bayes import MultinomialNB\n",
    "from sklearn.naive_bayes import GaussianNB\n",
    "from sklearn.svm import LinearSVR\n"
   ]
  },
  {
   "cell_type": "code",
   "execution_count": 3,
   "id": "1e275f05",
   "metadata": {},
   "outputs": [],
   "source": [
    "#NMF imports\n",
    "from sklearn.decomposition import NMF\n",
    "from sklearn.preprocessing import normalize"
   ]
  },
  {
   "cell_type": "markdown",
   "id": "4b9f25c2",
   "metadata": {},
   "source": [
    "First let’s import the data we worked with in the EDA portion."
   ]
  },
  {
   "cell_type": "code",
   "execution_count": 4,
   "id": "f045890a",
   "metadata": {},
   "outputs": [],
   "source": [
    "recipe_attributes1 = pd.read_csv('C:/Users/jwatki8/Downloads/My Capstone project/recipe_attributes1.csv')"
   ]
  },
  {
   "cell_type": "code",
   "execution_count": 5,
   "id": "069e055b",
   "metadata": {},
   "outputs": [],
   "source": [
    "recipe_attributes2 = pd.read_csv('C:/Users/jwatki8/Downloads/My Capstone project/recipe_attributes2.csv')"
   ]
  },
  {
   "cell_type": "code",
   "execution_count": 6,
   "id": "027ef0dc",
   "metadata": {},
   "outputs": [],
   "source": [
    "recipe_attributes3 = pd.read_csv('C:/Users/jwatki8/Downloads/My Capstone project/recipe_attributes3.csv')"
   ]
  },
  {
   "cell_type": "code",
   "execution_count": 7,
   "id": "d73c93c2",
   "metadata": {},
   "outputs": [
    {
     "name": "stdout",
     "output_type": "stream",
     "text": [
      "<class 'pandas.core.frame.DataFrame'>\n",
      "RangeIndex: 231634 entries, 0 to 231633\n",
      "Data columns (total 7 columns):\n",
      " #   Column         Non-Null Count   Dtype  \n",
      "---  ------         --------------   -----  \n",
      " 0   recipe_id      231634 non-null  int64  \n",
      " 1   minutes        231634 non-null  int64  \n",
      " 2   n_steps        231634 non-null  float64\n",
      " 3   n_ingredients  231634 non-null  float64\n",
      " 4   rating_mean    231634 non-null  float64\n",
      " 5   review_count   231634 non-null  int64  \n",
      " 6   polarity_avg   231634 non-null  float64\n",
      "dtypes: float64(4), int64(3)\n",
      "memory usage: 12.4 MB\n"
     ]
    }
   ],
   "source": [
    "recipe_attributes1.info()"
   ]
  },
  {
   "cell_type": "code",
   "execution_count": 8,
   "id": "30665295",
   "metadata": {},
   "outputs": [
    {
     "name": "stdout",
     "output_type": "stream",
     "text": [
      "<class 'pandas.core.frame.DataFrame'>\n",
      "RangeIndex: 231634 entries, 0 to 231633\n",
      "Columns: 212 entries, recipe_id to ingr_wine\n",
      "dtypes: float64(211), int64(1)\n",
      "memory usage: 374.7 MB\n"
     ]
    }
   ],
   "source": [
    "recipe_attributes2.info()"
   ]
  },
  {
   "cell_type": "code",
   "execution_count": 9,
   "id": "4a7e6df3",
   "metadata": {},
   "outputs": [
    {
     "name": "stdout",
     "output_type": "stream",
     "text": [
      "<class 'pandas.core.frame.DataFrame'>\n",
      "RangeIndex: 231637 entries, 0 to 231636\n",
      "Data columns (total 55 columns):\n",
      " #   Column                      Non-Null Count   Dtype  \n",
      "---  ------                      --------------   -----  \n",
      " 0   recipe_id                   231637 non-null  int64  \n",
      " 1   rating_mean                 231637 non-null  float64\n",
      " 2   polarity_avg                231637 non-null  float64\n",
      " 3   ingr_baking powder          231637 non-null  int64  \n",
      " 4   ingr_baking soda            231637 non-null  int64  \n",
      " 5   ingr_black pepper           231637 non-null  int64  \n",
      " 6   ingr_brown sugar            231637 non-null  int64  \n",
      " 7   ingr_cheddar cheese         231637 non-null  int64  \n",
      " 8   ingr_cream cheese           231637 non-null  int64  \n",
      " 9   ingr_garlic cloves          231637 non-null  int64  \n",
      " 10  ingr_ground black           231637 non-null  int64  \n",
      " 11  ingr_lemon juice            231637 non-null  int64  \n",
      " 12  ingr_olive oil              231637 non-null  int64  \n",
      " 13  ingr_parmesan cheese        231637 non-null  int64  \n",
      " 14  ingr_purpose flour          231637 non-null  int64  \n",
      " 15  ingr_salt pepper            231637 non-null  int64  \n",
      " 16  ingr_sour cream             231637 non-null  int64  \n",
      " 17  ingr_vanilla extract        231637 non-null  int64  \n",
      " 18  ingr_vegetable oil          231637 non-null  int64  \n",
      " 19  step_10 minutes             231637 non-null  int64  \n",
      " 20  step_15 minutes             231637 non-null  int64  \n",
      " 21  step_30 minutes             231637 non-null  int64  \n",
      " 22  step_bring boil             231637 non-null  int64  \n",
      " 23  step_large bowl             231637 non-null  int64  \n",
      " 24  step_medium heat            231637 non-null  int64  \n",
      " 25  step_preheat oven           231637 non-null  int64  \n",
      " 26  step_salt pepper            231637 non-null  int64  \n",
      " 27  step_set aside              231637 non-null  int64  \n",
      " 28  tag_15 minutes              231637 non-null  int64  \n",
      " 29  tag_30 minutes              231637 non-null  int64  \n",
      " 30  tag_60 minutes              231637 non-null  int64  \n",
      " 31  tag_beginner cook           231637 non-null  int64  \n",
      " 32  tag_cholesterol low         231637 non-null  int64  \n",
      " 33  tag_comfort food            231637 non-null  int64  \n",
      " 34  tag_course main             231637 non-null  int64  \n",
      " 35  tag_course preparation      231637 non-null  int64  \n",
      " 36  tag_cuisine preparation     231637 non-null  int64  \n",
      " 37  tag_dietary low             231637 non-null  int64  \n",
      " 38  tag_dinner party            231637 non-null  int64  \n",
      " 39  tag_eggs dairy              231637 non-null  int64  \n",
      " 40  tag_fat low                 231637 non-null  int64  \n",
      " 41  tag_holiday event           231637 non-null  int64  \n",
      " 42  tag_ingredient preparation  231637 non-null  int64  \n",
      " 43  tag_kid friendly            231637 non-null  int64  \n",
      " 44  tag_low calorie             231637 non-null  int64  \n",
      " 45  tag_low carb                231637 non-null  int64  \n",
      " 46  tag_low protein             231637 non-null  int64  \n",
      " 47  tag_low sodium              231637 non-null  int64  \n",
      " 48  tag_main dish               231637 non-null  int64  \n",
      " 49  tag_minutes time            231637 non-null  int64  \n",
      " 50  tag_north american          231637 non-null  int64  \n",
      " 51  tag_number servings         231637 non-null  int64  \n",
      " 52  tag_pasta rice              231637 non-null  int64  \n",
      " 53  tag_preparation occasion    231637 non-null  int64  \n",
      " 54  tag_taste mood              231637 non-null  int64  \n",
      "dtypes: float64(2), int64(53)\n",
      "memory usage: 97.2 MB\n"
     ]
    }
   ],
   "source": [
    "recipe_attributes3.info()"
   ]
  },
  {
   "cell_type": "markdown",
   "id": "aede034c",
   "metadata": {},
   "source": [
    "Next let’s create a dataframe that includes the numeric features that we narrowed down in the EDA portion."
   ]
  },
  {
   "cell_type": "code",
   "execution_count": 10,
   "id": "dd2e8927",
   "metadata": {},
   "outputs": [],
   "source": [
    "#recipe_attributes_sub3.drop(to_drop, axis=1, inplace=True)\n",
    "\n",
    "recipe_attributes3=recipe_attributes3.drop(['rating_mean','polarity_avg'],axis=1)"
   ]
  },
  {
   "cell_type": "code",
   "execution_count": 11,
   "id": "50615d31",
   "metadata": {},
   "outputs": [],
   "source": [
    "#recipe_attributes_p=pd.concat([recipe_attributes1, recipe_attributes3], axis=1)\n",
    "recipe_attributes_p=recipe_attributes1.merge(recipe_attributes3,on='recipe_id')"
   ]
  },
  {
   "cell_type": "code",
   "execution_count": 12,
   "id": "9bf5b6a7",
   "metadata": {},
   "outputs": [
    {
     "name": "stdout",
     "output_type": "stream",
     "text": [
      "<class 'pandas.core.frame.DataFrame'>\n",
      "Int64Index: 231634 entries, 0 to 231633\n",
      "Data columns (total 59 columns):\n",
      " #   Column                      Non-Null Count   Dtype  \n",
      "---  ------                      --------------   -----  \n",
      " 0   recipe_id                   231634 non-null  int64  \n",
      " 1   minutes                     231634 non-null  int64  \n",
      " 2   n_steps                     231634 non-null  float64\n",
      " 3   n_ingredients               231634 non-null  float64\n",
      " 4   rating_mean                 231634 non-null  float64\n",
      " 5   review_count                231634 non-null  int64  \n",
      " 6   polarity_avg                231634 non-null  float64\n",
      " 7   ingr_baking powder          231634 non-null  int64  \n",
      " 8   ingr_baking soda            231634 non-null  int64  \n",
      " 9   ingr_black pepper           231634 non-null  int64  \n",
      " 10  ingr_brown sugar            231634 non-null  int64  \n",
      " 11  ingr_cheddar cheese         231634 non-null  int64  \n",
      " 12  ingr_cream cheese           231634 non-null  int64  \n",
      " 13  ingr_garlic cloves          231634 non-null  int64  \n",
      " 14  ingr_ground black           231634 non-null  int64  \n",
      " 15  ingr_lemon juice            231634 non-null  int64  \n",
      " 16  ingr_olive oil              231634 non-null  int64  \n",
      " 17  ingr_parmesan cheese        231634 non-null  int64  \n",
      " 18  ingr_purpose flour          231634 non-null  int64  \n",
      " 19  ingr_salt pepper            231634 non-null  int64  \n",
      " 20  ingr_sour cream             231634 non-null  int64  \n",
      " 21  ingr_vanilla extract        231634 non-null  int64  \n",
      " 22  ingr_vegetable oil          231634 non-null  int64  \n",
      " 23  step_10 minutes             231634 non-null  int64  \n",
      " 24  step_15 minutes             231634 non-null  int64  \n",
      " 25  step_30 minutes             231634 non-null  int64  \n",
      " 26  step_bring boil             231634 non-null  int64  \n",
      " 27  step_large bowl             231634 non-null  int64  \n",
      " 28  step_medium heat            231634 non-null  int64  \n",
      " 29  step_preheat oven           231634 non-null  int64  \n",
      " 30  step_salt pepper            231634 non-null  int64  \n",
      " 31  step_set aside              231634 non-null  int64  \n",
      " 32  tag_15 minutes              231634 non-null  int64  \n",
      " 33  tag_30 minutes              231634 non-null  int64  \n",
      " 34  tag_60 minutes              231634 non-null  int64  \n",
      " 35  tag_beginner cook           231634 non-null  int64  \n",
      " 36  tag_cholesterol low         231634 non-null  int64  \n",
      " 37  tag_comfort food            231634 non-null  int64  \n",
      " 38  tag_course main             231634 non-null  int64  \n",
      " 39  tag_course preparation      231634 non-null  int64  \n",
      " 40  tag_cuisine preparation     231634 non-null  int64  \n",
      " 41  tag_dietary low             231634 non-null  int64  \n",
      " 42  tag_dinner party            231634 non-null  int64  \n",
      " 43  tag_eggs dairy              231634 non-null  int64  \n",
      " 44  tag_fat low                 231634 non-null  int64  \n",
      " 45  tag_holiday event           231634 non-null  int64  \n",
      " 46  tag_ingredient preparation  231634 non-null  int64  \n",
      " 47  tag_kid friendly            231634 non-null  int64  \n",
      " 48  tag_low calorie             231634 non-null  int64  \n",
      " 49  tag_low carb                231634 non-null  int64  \n",
      " 50  tag_low protein             231634 non-null  int64  \n",
      " 51  tag_low sodium              231634 non-null  int64  \n",
      " 52  tag_main dish               231634 non-null  int64  \n",
      " 53  tag_minutes time            231634 non-null  int64  \n",
      " 54  tag_north american          231634 non-null  int64  \n",
      " 55  tag_number servings         231634 non-null  int64  \n",
      " 56  tag_pasta rice              231634 non-null  int64  \n",
      " 57  tag_preparation occasion    231634 non-null  int64  \n",
      " 58  tag_taste mood              231634 non-null  int64  \n",
      "dtypes: float64(4), int64(55)\n",
      "memory usage: 106.0 MB\n"
     ]
    }
   ],
   "source": [
    "recipe_attributes_p.info()"
   ]
  },
  {
   "cell_type": "code",
   "execution_count": 13,
   "id": "70c08484",
   "metadata": {},
   "outputs": [
    {
     "data": {
      "text/plain": [
       "(231634, 59)"
      ]
     },
     "execution_count": 13,
     "metadata": {},
     "output_type": "execute_result"
    }
   ],
   "source": [
    "recipe_attributes_p.shape"
   ]
  },
  {
   "cell_type": "markdown",
   "id": "36d4f43b",
   "metadata": {},
   "source": [
    "Before I examine imputing missing values I will check my dataset for them as I think I cleaned this up pretty well in my previous steps."
   ]
  },
  {
   "cell_type": "code",
   "execution_count": 14,
   "id": "34e6f0e9",
   "metadata": {},
   "outputs": [
    {
     "name": "stdout",
     "output_type": "stream",
     "text": [
      "0\n"
     ]
    }
   ],
   "source": [
    "counts = recipe_attributes_p.isna().sum()\n",
    "print(counts.sum())"
   ]
  },
  {
   "cell_type": "markdown",
   "id": "1ee05ae3",
   "metadata": {},
   "source": [
    "From this we can see that our data contains no missing values."
   ]
  },
  {
   "cell_type": "markdown",
   "id": "d65e138a",
   "metadata": {},
   "source": [
    "Next we can start working on creating a train and test set for our new recipe attributes dataframe. Because I want to examine the possibility of more than one target variable, I want to create two different train and test sets. One set will have a y variable of ‘rating_mean’ and the other will have a y variable of ‘polarity_avg’."
   ]
  },
  {
   "cell_type": "code",
   "execution_count": 15,
   "id": "c451a585",
   "metadata": {},
   "outputs": [
    {
     "data": {
      "text/plain": [
       "(162143.8, 69490.2)"
      ]
     },
     "execution_count": 15,
     "metadata": {},
     "output_type": "execute_result"
    }
   ],
   "source": [
    "len(recipe_attributes_p) * .7, len(recipe_attributes_p) * .3"
   ]
  },
  {
   "cell_type": "code",
   "execution_count": 16,
   "id": "b582edc5",
   "metadata": {},
   "outputs": [],
   "source": [
    "X_train, X_test, y_train, y_test = train_test_split(recipe_attributes_p.drop(columns='rating_mean'), \n",
    "                                                    recipe_attributes_p.rating_mean, test_size=0.3, \n",
    "                                                    random_state=22)"
   ]
  },
  {
   "cell_type": "code",
   "execution_count": 17,
   "id": "28b9870a",
   "metadata": {},
   "outputs": [
    {
     "data": {
      "text/plain": [
       "((162143, 58), (69491, 58))"
      ]
     },
     "execution_count": 17,
     "metadata": {},
     "output_type": "execute_result"
    }
   ],
   "source": [
    "X_train.shape, X_test.shape"
   ]
  },
  {
   "cell_type": "code",
   "execution_count": 18,
   "id": "74f50546",
   "metadata": {},
   "outputs": [
    {
     "data": {
      "text/plain": [
       "((162143,), (69491,))"
      ]
     },
     "execution_count": 18,
     "metadata": {},
     "output_type": "execute_result"
    }
   ],
   "source": [
    "y_train.shape, y_test.shape"
   ]
  },
  {
   "cell_type": "code",
   "execution_count": 19,
   "id": "2a46ab2e",
   "metadata": {},
   "outputs": [],
   "source": [
    "X_train2, X_test2, y_train2, y_test2 = train_test_split(recipe_attributes_p.drop(columns='polarity_avg'), \n",
    "                                                    recipe_attributes_p.polarity_avg, test_size=0.3, \n",
    "                                                    random_state=22)"
   ]
  },
  {
   "cell_type": "code",
   "execution_count": 20,
   "id": "78b3dcb5",
   "metadata": {},
   "outputs": [
    {
     "data": {
      "text/plain": [
       "((162143, 58), (69491, 58))"
      ]
     },
     "execution_count": 20,
     "metadata": {},
     "output_type": "execute_result"
    }
   ],
   "source": [
    "X_train2.shape, X_test2.shape"
   ]
  },
  {
   "cell_type": "code",
   "execution_count": 21,
   "id": "f9aab98a",
   "metadata": {},
   "outputs": [
    {
     "data": {
      "text/plain": [
       "((162143,), (69491,))"
      ]
     },
     "execution_count": 21,
     "metadata": {},
     "output_type": "execute_result"
    }
   ],
   "source": [
    "y_train2.shape, y_test2.shape"
   ]
  },
  {
   "cell_type": "markdown",
   "id": "7f83dee6",
   "metadata": {},
   "source": [
    "I already have a dataframe that pretty much only includes numeric variables. The only column that should be dropped here is the recipe id column at it is the identifier variable for the recipes."
   ]
  },
  {
   "cell_type": "code",
   "execution_count": 22,
   "id": "28332cd6",
   "metadata": {},
   "outputs": [
    {
     "data": {
      "text/plain": [
       "((162143, 57), (69491, 57))"
      ]
     },
     "execution_count": 22,
     "metadata": {},
     "output_type": "execute_result"
    }
   ],
   "source": [
    "#names_list = ['', '',]\n",
    "#names_train = X_train[names_list]\n",
    "#names_test = X_test[names_list]\n",
    "#X_train.drop(columns=names_list, inplace=True)\n",
    "#X_test.drop(columns=names_list, inplace=True)\n",
    "#X_train.shape, X_test.shape\n",
    "\n",
    "\n",
    "id_vars = ['recipe_id']\n",
    "id_train = X_train[id_vars]\n",
    "id_test = X_test[id_vars]\n",
    "X_train.drop(columns=id_vars, inplace=True)\n",
    "X_test.drop(columns=id_vars, inplace=True)\n",
    "X_train.shape, X_test.shape"
   ]
  },
  {
   "cell_type": "code",
   "execution_count": 23,
   "id": "4a4a88d0",
   "metadata": {},
   "outputs": [
    {
     "data": {
      "text/plain": [
       "minutes                         int64\n",
       "n_steps                       float64\n",
       "n_ingredients                 float64\n",
       "review_count                    int64\n",
       "polarity_avg                  float64\n",
       "ingr_baking powder              int64\n",
       "ingr_baking soda                int64\n",
       "ingr_black pepper               int64\n",
       "ingr_brown sugar                int64\n",
       "ingr_cheddar cheese             int64\n",
       "ingr_cream cheese               int64\n",
       "ingr_garlic cloves              int64\n",
       "ingr_ground black               int64\n",
       "ingr_lemon juice                int64\n",
       "ingr_olive oil                  int64\n",
       "ingr_parmesan cheese            int64\n",
       "ingr_purpose flour              int64\n",
       "ingr_salt pepper                int64\n",
       "ingr_sour cream                 int64\n",
       "ingr_vanilla extract            int64\n",
       "ingr_vegetable oil              int64\n",
       "step_10 minutes                 int64\n",
       "step_15 minutes                 int64\n",
       "step_30 minutes                 int64\n",
       "step_bring boil                 int64\n",
       "step_large bowl                 int64\n",
       "step_medium heat                int64\n",
       "step_preheat oven               int64\n",
       "step_salt pepper                int64\n",
       "step_set aside                  int64\n",
       "tag_15 minutes                  int64\n",
       "tag_30 minutes                  int64\n",
       "tag_60 minutes                  int64\n",
       "tag_beginner cook               int64\n",
       "tag_cholesterol low             int64\n",
       "tag_comfort food                int64\n",
       "tag_course main                 int64\n",
       "tag_course preparation          int64\n",
       "tag_cuisine preparation         int64\n",
       "tag_dietary low                 int64\n",
       "tag_dinner party                int64\n",
       "tag_eggs dairy                  int64\n",
       "tag_fat low                     int64\n",
       "tag_holiday event               int64\n",
       "tag_ingredient preparation      int64\n",
       "tag_kid friendly                int64\n",
       "tag_low calorie                 int64\n",
       "tag_low carb                    int64\n",
       "tag_low protein                 int64\n",
       "tag_low sodium                  int64\n",
       "tag_main dish                   int64\n",
       "tag_minutes time                int64\n",
       "tag_north american              int64\n",
       "tag_number servings             int64\n",
       "tag_pasta rice                  int64\n",
       "tag_preparation occasion        int64\n",
       "tag_taste mood                  int64\n",
       "dtype: object"
      ]
     },
     "execution_count": 23,
     "metadata": {},
     "output_type": "execute_result"
    }
   ],
   "source": [
    "X_train.dtypes"
   ]
  },
  {
   "cell_type": "code",
   "execution_count": 24,
   "id": "fcac8371",
   "metadata": {},
   "outputs": [
    {
     "data": {
      "text/plain": [
       "minutes                         int64\n",
       "n_steps                       float64\n",
       "n_ingredients                 float64\n",
       "review_count                    int64\n",
       "polarity_avg                  float64\n",
       "ingr_baking powder              int64\n",
       "ingr_baking soda                int64\n",
       "ingr_black pepper               int64\n",
       "ingr_brown sugar                int64\n",
       "ingr_cheddar cheese             int64\n",
       "ingr_cream cheese               int64\n",
       "ingr_garlic cloves              int64\n",
       "ingr_ground black               int64\n",
       "ingr_lemon juice                int64\n",
       "ingr_olive oil                  int64\n",
       "ingr_parmesan cheese            int64\n",
       "ingr_purpose flour              int64\n",
       "ingr_salt pepper                int64\n",
       "ingr_sour cream                 int64\n",
       "ingr_vanilla extract            int64\n",
       "ingr_vegetable oil              int64\n",
       "step_10 minutes                 int64\n",
       "step_15 minutes                 int64\n",
       "step_30 minutes                 int64\n",
       "step_bring boil                 int64\n",
       "step_large bowl                 int64\n",
       "step_medium heat                int64\n",
       "step_preheat oven               int64\n",
       "step_salt pepper                int64\n",
       "step_set aside                  int64\n",
       "tag_15 minutes                  int64\n",
       "tag_30 minutes                  int64\n",
       "tag_60 minutes                  int64\n",
       "tag_beginner cook               int64\n",
       "tag_cholesterol low             int64\n",
       "tag_comfort food                int64\n",
       "tag_course main                 int64\n",
       "tag_course preparation          int64\n",
       "tag_cuisine preparation         int64\n",
       "tag_dietary low                 int64\n",
       "tag_dinner party                int64\n",
       "tag_eggs dairy                  int64\n",
       "tag_fat low                     int64\n",
       "tag_holiday event               int64\n",
       "tag_ingredient preparation      int64\n",
       "tag_kid friendly                int64\n",
       "tag_low calorie                 int64\n",
       "tag_low carb                    int64\n",
       "tag_low protein                 int64\n",
       "tag_low sodium                  int64\n",
       "tag_main dish                   int64\n",
       "tag_minutes time                int64\n",
       "tag_north american              int64\n",
       "tag_number servings             int64\n",
       "tag_pasta rice                  int64\n",
       "tag_preparation occasion        int64\n",
       "tag_taste mood                  int64\n",
       "dtype: object"
      ]
     },
     "execution_count": 24,
     "metadata": {},
     "output_type": "execute_result"
    }
   ],
   "source": [
    "X_test.dtypes"
   ]
  },
  {
   "cell_type": "code",
   "execution_count": 25,
   "id": "e0ea6f4a",
   "metadata": {},
   "outputs": [
    {
     "data": {
      "text/plain": [
       "((162143, 57), (69491, 57))"
      ]
     },
     "execution_count": 25,
     "metadata": {},
     "output_type": "execute_result"
    }
   ],
   "source": [
    "#names_list = ['', '',]\n",
    "#names_train = X_train[names_list]\n",
    "#names_test = X_test[names_list]\n",
    "#X_train.drop(columns=names_list, inplace=True)\n",
    "#X_test.drop(columns=names_list, inplace=True)\n",
    "#X_train.shape, X_test.shape\n",
    "\n",
    "\n",
    "id_vars = ['recipe_id']\n",
    "id_train = X_train2[id_vars]\n",
    "id_test = X_test2[id_vars]\n",
    "X_train2.drop(columns=id_vars, inplace=True)\n",
    "X_test2.drop(columns=id_vars, inplace=True)\n",
    "X_train2.shape, X_test2.shape"
   ]
  },
  {
   "cell_type": "code",
   "execution_count": 26,
   "id": "0f57735c",
   "metadata": {},
   "outputs": [
    {
     "data": {
      "text/plain": [
       "minutes                         int64\n",
       "n_steps                       float64\n",
       "n_ingredients                 float64\n",
       "rating_mean                   float64\n",
       "review_count                    int64\n",
       "ingr_baking powder              int64\n",
       "ingr_baking soda                int64\n",
       "ingr_black pepper               int64\n",
       "ingr_brown sugar                int64\n",
       "ingr_cheddar cheese             int64\n",
       "ingr_cream cheese               int64\n",
       "ingr_garlic cloves              int64\n",
       "ingr_ground black               int64\n",
       "ingr_lemon juice                int64\n",
       "ingr_olive oil                  int64\n",
       "ingr_parmesan cheese            int64\n",
       "ingr_purpose flour              int64\n",
       "ingr_salt pepper                int64\n",
       "ingr_sour cream                 int64\n",
       "ingr_vanilla extract            int64\n",
       "ingr_vegetable oil              int64\n",
       "step_10 minutes                 int64\n",
       "step_15 minutes                 int64\n",
       "step_30 minutes                 int64\n",
       "step_bring boil                 int64\n",
       "step_large bowl                 int64\n",
       "step_medium heat                int64\n",
       "step_preheat oven               int64\n",
       "step_salt pepper                int64\n",
       "step_set aside                  int64\n",
       "tag_15 minutes                  int64\n",
       "tag_30 minutes                  int64\n",
       "tag_60 minutes                  int64\n",
       "tag_beginner cook               int64\n",
       "tag_cholesterol low             int64\n",
       "tag_comfort food                int64\n",
       "tag_course main                 int64\n",
       "tag_course preparation          int64\n",
       "tag_cuisine preparation         int64\n",
       "tag_dietary low                 int64\n",
       "tag_dinner party                int64\n",
       "tag_eggs dairy                  int64\n",
       "tag_fat low                     int64\n",
       "tag_holiday event               int64\n",
       "tag_ingredient preparation      int64\n",
       "tag_kid friendly                int64\n",
       "tag_low calorie                 int64\n",
       "tag_low carb                    int64\n",
       "tag_low protein                 int64\n",
       "tag_low sodium                  int64\n",
       "tag_main dish                   int64\n",
       "tag_minutes time                int64\n",
       "tag_north american              int64\n",
       "tag_number servings             int64\n",
       "tag_pasta rice                  int64\n",
       "tag_preparation occasion        int64\n",
       "tag_taste mood                  int64\n",
       "dtype: object"
      ]
     },
     "execution_count": 26,
     "metadata": {},
     "output_type": "execute_result"
    }
   ],
   "source": [
    "X_train2.dtypes"
   ]
  },
  {
   "cell_type": "code",
   "execution_count": 27,
   "id": "eae6af1a",
   "metadata": {},
   "outputs": [
    {
     "data": {
      "text/plain": [
       "minutes                         int64\n",
       "n_steps                       float64\n",
       "n_ingredients                 float64\n",
       "rating_mean                   float64\n",
       "review_count                    int64\n",
       "ingr_baking powder              int64\n",
       "ingr_baking soda                int64\n",
       "ingr_black pepper               int64\n",
       "ingr_brown sugar                int64\n",
       "ingr_cheddar cheese             int64\n",
       "ingr_cream cheese               int64\n",
       "ingr_garlic cloves              int64\n",
       "ingr_ground black               int64\n",
       "ingr_lemon juice                int64\n",
       "ingr_olive oil                  int64\n",
       "ingr_parmesan cheese            int64\n",
       "ingr_purpose flour              int64\n",
       "ingr_salt pepper                int64\n",
       "ingr_sour cream                 int64\n",
       "ingr_vanilla extract            int64\n",
       "ingr_vegetable oil              int64\n",
       "step_10 minutes                 int64\n",
       "step_15 minutes                 int64\n",
       "step_30 minutes                 int64\n",
       "step_bring boil                 int64\n",
       "step_large bowl                 int64\n",
       "step_medium heat                int64\n",
       "step_preheat oven               int64\n",
       "step_salt pepper                int64\n",
       "step_set aside                  int64\n",
       "tag_15 minutes                  int64\n",
       "tag_30 minutes                  int64\n",
       "tag_60 minutes                  int64\n",
       "tag_beginner cook               int64\n",
       "tag_cholesterol low             int64\n",
       "tag_comfort food                int64\n",
       "tag_course main                 int64\n",
       "tag_course preparation          int64\n",
       "tag_cuisine preparation         int64\n",
       "tag_dietary low                 int64\n",
       "tag_dinner party                int64\n",
       "tag_eggs dairy                  int64\n",
       "tag_fat low                     int64\n",
       "tag_holiday event               int64\n",
       "tag_ingredient preparation      int64\n",
       "tag_kid friendly                int64\n",
       "tag_low calorie                 int64\n",
       "tag_low carb                    int64\n",
       "tag_low protein                 int64\n",
       "tag_low sodium                  int64\n",
       "tag_main dish                   int64\n",
       "tag_minutes time                int64\n",
       "tag_north american              int64\n",
       "tag_number servings             int64\n",
       "tag_pasta rice                  int64\n",
       "tag_preparation occasion        int64\n",
       "tag_taste mood                  int64\n",
       "dtype: object"
      ]
     },
     "execution_count": 27,
     "metadata": {},
     "output_type": "execute_result"
    }
   ],
   "source": [
    "X_test2.dtypes"
   ]
  },
  {
   "cell_type": "markdown",
   "id": "499c61d3",
   "metadata": {},
   "source": [
    "Now I have two different train test sets for modeling the data. This will allow me to see the performance based on two different target variables and compare the results."
   ]
  },
  {
   "cell_type": "markdown",
   "id": "75116348",
   "metadata": {},
   "source": [
    " Let’s move on to scaling."
   ]
  },
  {
   "cell_type": "code",
   "execution_count": 28,
   "id": "30fb333d",
   "metadata": {},
   "outputs": [],
   "source": [
    "scaler = StandardScaler()\n",
    "scaler.fit(X_train)\n",
    "X_train_scaled = scaler.transform(X_train)\n",
    "X_test_scaled = scaler.transform(X_test)"
   ]
  },
  {
   "cell_type": "code",
   "execution_count": 29,
   "id": "c48191de",
   "metadata": {},
   "outputs": [],
   "source": [
    "scaler = StandardScaler()\n",
    "scaler.fit(X_train2)\n",
    "X_train2_scaled = scaler.transform(X_train2)\n",
    "X_test2_scaled = scaler.transform(X_test2)"
   ]
  },
  {
   "cell_type": "markdown",
   "id": "41b43edb",
   "metadata": {},
   "source": [
    "Now we have:\n",
    "\n",
    "1. Created X and y variables\n",
    "\n",
    "2. Checked for and imputed missing values.\n",
    "\n",
    "3. Performed a train test split on the data.\n",
    "\n",
    "4. Scaled the data.\n",
    "\n",
    "We are ready to begin modeling.\n"
   ]
  }
 ],
 "metadata": {
  "kernelspec": {
   "display_name": "Python 3 (ipykernel)",
   "language": "python",
   "name": "python3"
  },
  "language_info": {
   "codemirror_mode": {
    "name": "ipython",
    "version": 3
   },
   "file_extension": ".py",
   "mimetype": "text/x-python",
   "name": "python",
   "nbconvert_exporter": "python",
   "pygments_lexer": "ipython3",
   "version": "3.9.13"
  }
 },
 "nbformat": 4,
 "nbformat_minor": 5
}
